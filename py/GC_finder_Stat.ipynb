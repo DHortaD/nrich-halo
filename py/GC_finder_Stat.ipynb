{
 "cells": [
  {
   "cell_type": "code",
   "execution_count": 1,
   "metadata": {},
   "outputs": [],
   "source": [
    "# load in the correct modules\n",
    "import numpy as np\n",
    "import matplotlib.pyplot as plt\n",
    "import tqdm\n",
    "from astropy.io import fits\n"
   ]
  },
  {
   "cell_type": "code",
   "execution_count": 5,
   "metadata": {},
   "outputs": [
    {
     "name": "stderr",
     "output_type": "stream",
     "text": [
      "WARNING: VerifyWarning: It is strongly recommended that column names contain only upper and lower-case ASCII letters, digits, or underscores for maximum compatibility with other software (got '[Fe/H]'). [astropy.io.fits.column]\n"
     ]
    }
   ],
   "source": [
    "# load in the Harris GC catalogue\n",
    "harris_gc = fits.open('/Users/qpasa/Desktop/n-rich-halo/sav/harris+baumgardt.fits')\n",
    "data_gc = harris_gc[1].data\n",
    "\n",
    "# get the data\n",
    "names_gc = data_gc.field('Name') #gc name\n",
    "fe_h_gc = data_gc.field('[Fe/H]')#gc metallicity from Harris\n",
    "vlos_gc = data_gc.field('rad_vel') #gc radial velocity from Baumgardt\n",
    "rc_gc = data_gc.field('rc') #gc core radius from Baumgardt\n",
    "rt_gc = data_gc.field('rt') #gc tidal radius from Baumgardt\n",
    "glon_gc = data_gc.field('l') #gc longitude from Harris\n",
    "glat_gc = data_gc.field('b') #gc latitude from Harris\n",
    "rsun_gc = data_gc.field('R_sun(kpc)') #gc longitude from Harris\n",
    "vlos_disp_gc = data_gc.field('v_disp') #gc velocity dispersion from Baumgardt\n",
    "pmra_gc = data_gc.field('pmra')#gc pmra from Baumgardt\n",
    "pmdec_gc = data_gc.field('pmdec')#gc pmdec from Baumgardt\n",
    "pmra_gc_err = data_gc.field('pmra_err')#gc pmra error from Baumgardt\n",
    "pmdec_gc_err = data_gc.field('pmdec_err')#gc pmdec error from Baumgardt\n"
   ]
  },
  {
   "cell_type": "code",
   "execution_count": 24,
   "metadata": {},
   "outputs": [
    {
     "name": "stdout",
     "output_type": "stream",
     "text": [
      "[  4430.   9980.   9170.  31300.  15490.  11000. 123300.  90100.  27200.\n",
      "  11330.  13270.  10800.  83180.  39400.  10210.   8090.  92500.   4600.\n",
      " 103000.  18200.   5760.  21200.  10130.   6240.  17900.  17200.   5240.\n",
      "   9590.  11450.  32200.  16900.  27200.  37330.  18200.  31800.  23200.\n",
      "  12600.   7570.   9080.  10600.  10560.  71000.   8000.   8860.   1930.\n",
      "  16070.   8900.   9800.   8100.   6030.   6770.  30620.   4670.   9800.\n",
      "  13520.   4960.   6400.  45100.   6410.   8270.  15140.   9400.   9800.\n",
      "   5770.  11600.   8440.   7800.   8400.   8430.  15100.   8700.   5890.\n",
      "  25000.   7500.   3660.   6700.   6800.   7360.   8100.   9800.   6700.\n",
      "   6400.  10740.   9310.   7700.   2440.   5800.  35300.  13700.   5500.\n",
      "   8240.  11830.   6700.  11600.   7800.  11300.   7100.  10600.   5800.\n",
      "   6500.   7450.   7850.   5200.   2600.   7950.   6750.   7200.   5390.\n",
      "  10590.   6500.  13180.   6400.   5430.  10320.   8800.   8050.  10000.\n",
      "   3230.  12800.   9310.   6950.  24130.   7100.   8300.   7800.   4250.\n",
      "   7950.   9680.  22800.   5900.  28600.   5300.  26730.  14300.   3990.\n",
      "  21610.  15400.  17000.  42800.  10220.  10510.   8000.  19000.  24800.\n",
      "  26550.]\n"
     ]
    }
   ],
   "source": [
    "rsun_gc = np.asarray(rsun_gc,dtype=float) \n",
    "rsun_gc = rsun_gc*1000 #transform distance into parsecs\n",
    "print(rsun_gc)"
   ]
  },
  {
   "cell_type": "code",
   "execution_count": 25,
   "metadata": {},
   "outputs": [
    {
     "name": "stdout",
     "output_type": "stream",
     "text": [
      "[1.54347914 0.56574245 0.68970703 0.06981668 0.45164361 0.13381193\n",
      " 0.14449441 0.0880804  0.45635368 0.59558401 0.47487071 0.45895963\n",
      " 0.51110871 0.16560562 0.87678923 0.14908267 0.11330332 0.89288999\n",
      " 0.13595257 0.26063464 0.76150179 0.21742771 0.43343131 0.66719547\n",
      " 0.50229519 0.29187789 2.16317726 0.72295696 0.53654438 0.19962856\n",
      " 0.26491858 0.38487756 0.34038668 0.33159516 0.4930802  0.1501548\n",
      " 0.32677138 0.59863777 0.39041241 0.31361645 0.33981788 0.07830966\n",
      " 0.30452994 0.31842814 1.51616856 0.33857315 0.17845439 0.30700307\n",
      " 0.18087135 0.35546644 1.05226175 0.3712489  0.51493976 0.15925929\n",
      " 0.3832772  0.61167879 0.25720606 0.13954281 0.44085547 0.27989939\n",
      " 0.25374553 0.16268388 0.13528845 0.33881364 0.29971893 0.76444164\n",
      " 0.13192743 0.3038751  0.12628201 0.33990836 0.11544786 0.29815475\n",
      " 0.2861375  0.06921334 0.59301685 0.11912409 0.18452675 0.38457257\n",
      " 0.18978412 0.32249679 0.14101631 0.18030325 0.45666876 0.51967652\n",
      " 0.12694384 1.18929299 0.32935558 0.24221813 0.74748049 0.39732655\n",
      " 0.24274364 0.48123775 0.16530306 0.23634642 0.08851471 0.23100973\n",
      " 0.09570825 0.29583263 0.17257935 0.1717997  0.07775311 0.34100516\n",
      " 0.27645428 1.18376696 0.29058939 0.27892655 0.18294923 0.39703739\n",
      " 0.21187091 0.19577603 0.25778927 0.13751013 0.45457718 0.23884484\n",
      " 0.1961086  0.11950281 0.11774299 1.32034256 0.19749217 0.1731187\n",
      " 0.30066134 0.58962358 0.13613826 0.25534759 0.32680987 0.8354991\n",
      " 0.52454129 0.47382561 0.16424835 0.44351702 0.19041902 0.54119096\n",
      " 0.22241078 0.26829045 0.65311401 0.45903891 0.3938961  0.21519721\n",
      " 0.22569031 0.72722456 0.43187989 0.52606164 0.12876494 0.08243205\n",
      " 0.23753607]\n"
     ]
    }
   ],
   "source": [
    "rt_degrees = np.tan(rt_gc/rsun_gc)*180/np.pi\n",
    "print(rt_degrees) #now we have tidal radius in degrees"
   ]
  },
  {
   "cell_type": "code",
   "execution_count": 6,
   "metadata": {},
   "outputs": [
    {
     "name": "stderr",
     "output_type": "stream",
     "text": [
      "WARNING: VerifyWarning: It is strongly recommended that column names contain only upper and lower-case ASCII letters, digits, or underscores for maximum compatibility with other software (got '(m-M)V'). [astropy.io.fits.column]\n",
      "WARNING: VerifyWarning: It is strongly recommended that column names contain only upper and lower-case ASCII letters, digits, or underscores for maximum compatibility with other software (got '+/-_2'). [astropy.io.fits.column]\n",
      "WARNING: VerifyWarning: It is strongly recommended that column names contain only upper and lower-case ASCII letters, digits, or underscores for maximum compatibility with other software (got '+/-_2a'). [astropy.io.fits.column]\n"
     ]
    }
   ],
   "source": [
    "harris = fits.open('/Users/qpasa/Desktop/n-rich-halo/sav/harris2010.fits')\n",
    "data_h = harris[1].data\n",
    "\n",
    "names_h = data_h.field('ID') #gc name\n"
   ]
  },
  {
   "cell_type": "code",
   "execution_count": 27,
   "metadata": {},
   "outputs": [
    {
     "name": "stdout",
     "output_type": "stream",
     "text": [
      "FSR1735\n",
      "[ True  True  True  True  True  True  True  True  True  True  True  True\n",
      "  True  True  True  True  True  True  True  True  True  True  True  True\n",
      "  True  True  True  True  True  True  True  True  True  True  True  True\n",
      "  True  True  True  True  True  True  True  True  True  True  True  True\n",
      "  True  True  True  True  True False  True  True  True  True  True  True\n",
      "  True  True  True  True  True  True  True  True  True  True  True  True\n",
      "  True  True  True  True  True  True  True  True  True  True  True  True\n",
      "  True  True  True  True  True  True  True  True  True  True  True  True\n",
      "  True  True  True  True  True  True  True  True  True  True  True  True\n",
      "  True  True  True  True  True  True  True  True  True  True  True  True\n",
      "  True  True  True  True  True  True  True  True  True  True  True  True\n",
      "  True  True  True  True  True  True  True  True  True  True  True  True\n",
      "  True]\n",
      "(144,)\n"
     ]
    }
   ],
   "source": [
    "print(names_gc[53])\n",
    "mask_fsr1753 = fe_h_gc!='-9999'\n",
    "print(mask_fsr1753)\n",
    "\n",
    "names_gc = names_gc[mask_fsr1753]\n",
    "fe_h_gc = fe_h_gc[mask_fsr1753]\n",
    "vlos_gc = vlos_gc[mask_fsr1753]\n",
    "rc_gc = rc_gc[mask_fsr1753]\n",
    "rt_gc = rt_gc[mask_fsr1753]\n",
    "glon_gc = glon_gc[mask_fsr1753]\n",
    "glat_gc = glat_gc[mask_fsr1753]\n",
    "vlos_disp_gc = vlos_disp_gc[mask_fsr1753]\n",
    "pmra_gc = pmra_gc[mask_fsr1753]\n",
    "pmdec_gc = pmdec_gc[mask_fsr1753]\n",
    "pmra_gc_err = pmra_gc_err[mask_fsr1753]\n",
    "pmdec_gc_err = pmdec_gc_err[mask_fsr1753]\n",
    "rt_d_gc = rt_degrees[mask_fsr1753]\n",
    "print(np.shape(rt_d_gc))\n"
   ]
  },
  {
   "cell_type": "code",
   "execution_count": 28,
   "metadata": {},
   "outputs": [],
   "source": [
    "#load statIndx sample and pickle file\n",
    "import os\n",
    "import dill as pickle\n",
    "if os.path.exists('../sav/statIndx.dat'):\n",
    "    with open('../sav/statIndx.dat', 'rb') as f:\n",
    "        statIndx = pickle.load(f)\n",
    "else:\n",
    "    print('No pre-computed statistical sample found, please refer to selection-function.ipynb')\n",
    "    "
   ]
  },
  {
   "cell_type": "code",
   "execution_count": 29,
   "metadata": {},
   "outputs": [
    {
     "name": "stdout",
     "output_type": "stream",
     "text": [
      "\r",
      "Removing duplicates (might take a while) and caching the duplicate-free file ... (file not cached if use_astroNN=True)\r"
     ]
    },
    {
     "name": "stderr",
     "output_type": "stream",
     "text": [
      "100%|██████████| 105448/105448 [00:13<00:00, 7864.24it/s]\n"
     ]
    },
    {
     "name": "stdout",
     "output_type": "stream",
     "text": [
      "357195 stars in total sample.                                                   \n"
     ]
    }
   ],
   "source": [
    "import apogee.tools.read as apread\n",
    "#load allStar (main sample w/ Leung & Bovy distances, removing duplicates)\n",
    "allstar = apread.allStar(main=True, rmdups=True,use_astroNN_distances=True)\n",
    "print(str(len(allstar))+' stars in total sample.')\n"
   ]
  },
  {
   "cell_type": "code",
   "execution_count": 30,
   "metadata": {},
   "outputs": [
    {
     "name": "stdout",
     "output_type": "stream",
     "text": [
      "255237\n"
     ]
    }
   ],
   "source": [
    "allstar = allstar[statIndx]\n",
    "print(len(allstar))"
   ]
  },
  {
   "cell_type": "code",
   "execution_count": 31,
   "metadata": {},
   "outputs": [],
   "source": [
    "vlos = allstar['VHELIO_AVG']\n",
    "glat = allstar['GLAT']\n",
    "glon = allstar['GLON']\n",
    "fe_h = allstar['FE_H']\n",
    "apogee_id = allstar['APOGEE_ID']\n",
    "\n",
    "\n"
   ]
  },
  {
   "cell_type": "code",
   "execution_count": 32,
   "metadata": {},
   "outputs": [
    {
     "name": "stdout",
     "output_type": "stream",
     "text": [
      "[-0.72 -1.32 -1.26 -0.7  -1.27 -0.65 -1.7  -1.43 -1.42 -1.18 -1.6  -1.92\n",
      " -2.15 -1.2  -1.14 -0.83 -1.63 -1.59 -1.41 -1.8  -2.17 -1.68 -2.23 -1.85\n",
      " -2.1  -2.27 -1.53 -1.5  -1.69 -1.3  -1.98 -1.88 -1.98 -1.53 -1.91 -1.41\n",
      " -1.9  -1.29 -0.49 -1.29 -1.59 -1.62 -1.01 -1.75 -1.16 -1.98 -1.76 -1.65\n",
      " -0.74 -1.02 -1.53 -1.47 -1.37 -1.28 -1.56 -1.02 -2.07 -1.18 -1.74 -1.26\n",
      " -2.1  -1.99 -0.45 -0.45 -2.31 -1.25 -1.77 -0.55 -0.4  -1.37 -0.64 -1.7\n",
      " -0.69 -0.59 -1.41 -1.   -0.99 -0.33 -0.75 -1.03 -0.7  -0.55 -1.28 -1.02\n",
      " -2.02 -0.91 -2.15 -1.51 -0.23 -0.36 -0.46 -0.56 -1.5  -0.64 -0.46 -1.05\n",
      " -1.23 -1.34 -1.79 -0.11 -0.63 -1.35 -1.4  -1.81 -0.18 -1.32 -0.75 -0.76\n",
      " -1.3  -1.5  -0.44 -1.32 -0.95 -0.64 -1.26 -0.81 -1.7  -0.37 -1.62 -1.02\n",
      " -1.49 -1.26 -1.1  -1.6  -1.54 -0.4  -1.98 -0.32 -0.1  -1.75 -1.94 -2.16\n",
      " -0.4  -0.78 -1.29 -1.47 -1.42 -1.52 -2.37 -1.65 -2.27 -0.85 -1.88 -1.78]\n"
     ]
    }
   ],
   "source": [
    "fe_h_gc = np.asarray(fe_h_gc,dtype=float)\n",
    "print(fe_h_gc)\n"
   ]
  },
  {
   "cell_type": "code",
   "execution_count": 33,
   "metadata": {},
   "outputs": [
    {
     "name": "stdout",
     "output_type": "stream",
     "text": [
      "0.12040677609841792\n",
      "(1, 287)\n"
     ]
    }
   ],
   "source": [
    "d = np.sqrt(((glon-glon_gc[0])*(np.cos(glat_gc[0]*np.pi/180)))**2+((glat-glat_gc[0])**2))\n",
    "print(np.min(d))\n",
    "print(np.shape(np.where(d<rt_d_gc[0])))\n"
   ]
  },
  {
   "cell_type": "code",
   "execution_count": 35,
   "metadata": {},
   "outputs": [
    {
     "name": "stderr",
     "output_type": "stream",
     "text": [
      "\r",
      "0it [00:00, ?it/s]"
     ]
    },
    {
     "name": "stdout",
     "output_type": "stream",
     "text": [
      "NGC104\n"
     ]
    },
    {
     "name": "stderr",
     "output_type": "stream",
     "text": [
      "\r",
      "1it [00:03,  3.45s/it]"
     ]
    },
    {
     "name": "stdout",
     "output_type": "stream",
     "text": [
      "(117,)\n",
      "NGC288\n"
     ]
    },
    {
     "name": "stderr",
     "output_type": "stream",
     "text": [
      "\r",
      "2it [00:06,  3.38s/it]"
     ]
    },
    {
     "name": "stdout",
     "output_type": "stream",
     "text": [
      "(34,)\n",
      "NGC362\n"
     ]
    },
    {
     "name": "stderr",
     "output_type": "stream",
     "text": [
      "\r",
      "3it [00:09,  3.32s/it]"
     ]
    },
    {
     "name": "stdout",
     "output_type": "stream",
     "text": [
      "(37,)\n",
      "Whiting1\n"
     ]
    },
    {
     "name": "stderr",
     "output_type": "stream",
     "text": [
      "\r",
      "4it [00:13,  3.29s/it]"
     ]
    },
    {
     "name": "stdout",
     "output_type": "stream",
     "text": [
      "(0,)\n",
      "NGC1261\n"
     ]
    },
    {
     "name": "stderr",
     "output_type": "stream",
     "text": [
      "\r",
      "5it [00:16,  3.30s/it]"
     ]
    },
    {
     "name": "stdout",
     "output_type": "stream",
     "text": [
      "(0,)\n",
      "Pal1\n"
     ]
    },
    {
     "name": "stderr",
     "output_type": "stream",
     "text": [
      "\r",
      "6it [00:19,  3.33s/it]"
     ]
    },
    {
     "name": "stdout",
     "output_type": "stream",
     "text": [
      "(0,)\n",
      "AM1\n"
     ]
    },
    {
     "name": "stderr",
     "output_type": "stream",
     "text": [
      "\r",
      "7it [00:23,  3.32s/it]"
     ]
    },
    {
     "name": "stdout",
     "output_type": "stream",
     "text": [
      "(0,)\n",
      "Eridanus\n"
     ]
    },
    {
     "name": "stderr",
     "output_type": "stream",
     "text": [
      "\r",
      "8it [00:26,  3.31s/it]"
     ]
    },
    {
     "name": "stdout",
     "output_type": "stream",
     "text": [
      "(0,)\n",
      "Pal2\n"
     ]
    },
    {
     "name": "stderr",
     "output_type": "stream",
     "text": [
      "\r",
      "9it [00:29,  3.33s/it]"
     ]
    },
    {
     "name": "stdout",
     "output_type": "stream",
     "text": [
      "(0,)\n",
      "NGC1851\n"
     ]
    },
    {
     "name": "stderr",
     "output_type": "stream",
     "text": [
      "\r",
      "10it [00:33,  3.34s/it]"
     ]
    },
    {
     "name": "stdout",
     "output_type": "stream",
     "text": [
      "(18,)\n",
      "NGC1904\n"
     ]
    },
    {
     "name": "stderr",
     "output_type": "stream",
     "text": [
      "\r",
      "11it [00:36,  3.36s/it]"
     ]
    },
    {
     "name": "stdout",
     "output_type": "stream",
     "text": [
      "(22,)\n",
      "NGC2298\n"
     ]
    },
    {
     "name": "stderr",
     "output_type": "stream",
     "text": [
      "\r",
      "12it [00:39,  3.38s/it]"
     ]
    },
    {
     "name": "stdout",
     "output_type": "stream",
     "text": [
      "(0,)\n",
      "NGC2419\n"
     ]
    },
    {
     "name": "stderr",
     "output_type": "stream",
     "text": [
      "\r",
      "13it [00:43,  3.38s/it]"
     ]
    },
    {
     "name": "stdout",
     "output_type": "stream",
     "text": [
      "(17,)\n",
      "Pyxis\n"
     ]
    },
    {
     "name": "stderr",
     "output_type": "stream",
     "text": [
      "\r",
      "14it [00:46,  3.39s/it]"
     ]
    },
    {
     "name": "stdout",
     "output_type": "stream",
     "text": [
      "(0,)\n",
      "NGC2808\n"
     ]
    },
    {
     "name": "stderr",
     "output_type": "stream",
     "text": [
      "\r",
      "15it [00:50,  3.38s/it]"
     ]
    },
    {
     "name": "stdout",
     "output_type": "stream",
     "text": [
      "(81,)\n",
      "E3\n"
     ]
    },
    {
     "name": "stderr",
     "output_type": "stream",
     "text": [
      "\r",
      "16it [00:53,  3.39s/it]"
     ]
    },
    {
     "name": "stdout",
     "output_type": "stream",
     "text": [
      "(0,)\n",
      "Pal3\n"
     ]
    },
    {
     "name": "stderr",
     "output_type": "stream",
     "text": [
      "\r",
      "17it [00:56,  3.40s/it]"
     ]
    },
    {
     "name": "stdout",
     "output_type": "stream",
     "text": [
      "(0,)\n",
      "NGC3201\n"
     ]
    },
    {
     "name": "stderr",
     "output_type": "stream",
     "text": [
      "\r",
      "18it [01:00,  3.45s/it]"
     ]
    },
    {
     "name": "stdout",
     "output_type": "stream",
     "text": [
      "(97,)\n",
      "Pal4\n"
     ]
    },
    {
     "name": "stderr",
     "output_type": "stream",
     "text": [
      "\r",
      "19it [01:03,  3.46s/it]"
     ]
    },
    {
     "name": "stdout",
     "output_type": "stream",
     "text": [
      "(0,)\n",
      "NGC4147\n"
     ]
    },
    {
     "name": "stderr",
     "output_type": "stream",
     "text": [
      "\r",
      "20it [01:07,  3.49s/it]"
     ]
    },
    {
     "name": "stdout",
     "output_type": "stream",
     "text": [
      "(0,)\n",
      "NGC4372\n"
     ]
    },
    {
     "name": "stderr",
     "output_type": "stream",
     "text": [
      "\r",
      "21it [01:11,  3.48s/it]"
     ]
    },
    {
     "name": "stdout",
     "output_type": "stream",
     "text": [
      "(0,)\n",
      "Rup106\n"
     ]
    },
    {
     "name": "stderr",
     "output_type": "stream",
     "text": [
      "\r",
      "22it [01:14,  3.46s/it]"
     ]
    },
    {
     "name": "stdout",
     "output_type": "stream",
     "text": [
      "(0,)\n",
      "NGC4590\n"
     ]
    },
    {
     "name": "stderr",
     "output_type": "stream",
     "text": [
      "\r",
      "23it [01:17,  3.44s/it]"
     ]
    },
    {
     "name": "stdout",
     "output_type": "stream",
     "text": [
      "(34,)\n",
      "NGC4833\n"
     ]
    },
    {
     "name": "stderr",
     "output_type": "stream",
     "text": [
      "\r",
      "24it [01:21,  3.45s/it]"
     ]
    },
    {
     "name": "stdout",
     "output_type": "stream",
     "text": [
      "(0,)\n",
      "NGC5024\n"
     ]
    },
    {
     "name": "stderr",
     "output_type": "stream",
     "text": [
      "\r",
      "25it [01:24,  3.45s/it]"
     ]
    },
    {
     "name": "stdout",
     "output_type": "stream",
     "text": [
      "(0,)\n",
      "NGC5053\n"
     ]
    },
    {
     "name": "stderr",
     "output_type": "stream",
     "text": [
      "\r",
      "26it [01:28,  3.45s/it]"
     ]
    },
    {
     "name": "stdout",
     "output_type": "stream",
     "text": [
      "(0,)\n",
      "NGC5139\n"
     ]
    },
    {
     "name": "stderr",
     "output_type": "stream",
     "text": [
      "\r",
      "27it [01:31,  3.46s/it]"
     ]
    },
    {
     "name": "stdout",
     "output_type": "stream",
     "text": [
      "(3,)\n",
      "NGC5272\n"
     ]
    },
    {
     "name": "stderr",
     "output_type": "stream",
     "text": [
      "\r",
      "28it [01:35,  3.48s/it]"
     ]
    },
    {
     "name": "stdout",
     "output_type": "stream",
     "text": [
      "(0,)\n",
      "NGC5286\n"
     ]
    },
    {
     "name": "stderr",
     "output_type": "stream",
     "text": [
      "\r",
      "29it [01:39,  3.71s/it]"
     ]
    },
    {
     "name": "stdout",
     "output_type": "stream",
     "text": [
      "(3,)\n",
      "AM4\n"
     ]
    },
    {
     "name": "stderr",
     "output_type": "stream",
     "text": [
      "\r",
      "30it [01:43,  3.70s/it]"
     ]
    },
    {
     "name": "stdout",
     "output_type": "stream",
     "text": [
      "(0,)\n",
      "NGC5466\n"
     ]
    },
    {
     "name": "stderr",
     "output_type": "stream",
     "text": [
      "\r",
      "31it [01:46,  3.67s/it]"
     ]
    },
    {
     "name": "stdout",
     "output_type": "stream",
     "text": [
      "(0,)\n",
      "NGC5634\n"
     ]
    },
    {
     "name": "stderr",
     "output_type": "stream",
     "text": [
      "\r",
      "32it [01:50,  3.64s/it]"
     ]
    },
    {
     "name": "stdout",
     "output_type": "stream",
     "text": [
      "(0,)\n",
      "NGC5694\n"
     ]
    },
    {
     "name": "stderr",
     "output_type": "stream",
     "text": [
      "\r",
      "33it [01:53,  3.60s/it]"
     ]
    },
    {
     "name": "stdout",
     "output_type": "stream",
     "text": [
      "(0,)\n",
      "IC4499\n"
     ]
    },
    {
     "name": "stderr",
     "output_type": "stream",
     "text": [
      "\r",
      "34it [01:57,  3.55s/it]"
     ]
    },
    {
     "name": "stdout",
     "output_type": "stream",
     "text": [
      "(0,)\n",
      "NGC5824\n"
     ]
    },
    {
     "name": "stderr",
     "output_type": "stream",
     "text": [
      "\r",
      "35it [02:00,  3.54s/it]"
     ]
    },
    {
     "name": "stdout",
     "output_type": "stream",
     "text": [
      "(0,)\n",
      "Pal5\n"
     ]
    },
    {
     "name": "stderr",
     "output_type": "stream",
     "text": [
      "\r",
      "36it [02:04,  3.49s/it]"
     ]
    },
    {
     "name": "stdout",
     "output_type": "stream",
     "text": [
      "(0,)\n",
      "NGC5897\n"
     ]
    },
    {
     "name": "stderr",
     "output_type": "stream",
     "text": [
      "\r",
      "37it [02:07,  3.49s/it]"
     ]
    },
    {
     "name": "stdout",
     "output_type": "stream",
     "text": [
      "(0,)\n",
      "NGC5904\n"
     ]
    },
    {
     "name": "stderr",
     "output_type": "stream",
     "text": [
      "\r",
      "38it [02:11,  3.49s/it]"
     ]
    },
    {
     "name": "stdout",
     "output_type": "stream",
     "text": [
      "(0,)\n",
      "NGC5927\n"
     ]
    },
    {
     "name": "stderr",
     "output_type": "stream",
     "text": [
      "\r",
      "39it [02:14,  3.47s/it]"
     ]
    },
    {
     "name": "stdout",
     "output_type": "stream",
     "text": [
      "(0,)\n",
      "NGC5946\n"
     ]
    },
    {
     "name": "stderr",
     "output_type": "stream",
     "text": [
      "\r",
      "40it [02:17,  3.46s/it]"
     ]
    },
    {
     "name": "stdout",
     "output_type": "stream",
     "text": [
      "(0,)\n",
      "NGC5986\n"
     ]
    },
    {
     "name": "stderr",
     "output_type": "stream",
     "text": [
      "\r",
      "41it [02:21,  3.51s/it]"
     ]
    },
    {
     "name": "stdout",
     "output_type": "stream",
     "text": [
      "(0,)\n",
      "Pal14\n"
     ]
    },
    {
     "name": "stderr",
     "output_type": "stream",
     "text": [
      "\r",
      "42it [02:25,  3.56s/it]"
     ]
    },
    {
     "name": "stdout",
     "output_type": "stream",
     "text": [
      "(0,)\n",
      "Lynga7\n"
     ]
    },
    {
     "name": "stderr",
     "output_type": "stream",
     "text": [
      "\r",
      "43it [02:28,  3.57s/it]"
     ]
    },
    {
     "name": "stdout",
     "output_type": "stream",
     "text": [
      "(0,)\n",
      "NGC6093\n"
     ]
    },
    {
     "name": "stderr",
     "output_type": "stream",
     "text": [
      "\r",
      "44it [02:32,  3.62s/it]"
     ]
    },
    {
     "name": "stdout",
     "output_type": "stream",
     "text": [
      "(0,)\n",
      "NGC6121\n"
     ]
    },
    {
     "name": "stderr",
     "output_type": "stream",
     "text": [
      "\r",
      "45it [02:36,  3.59s/it]"
     ]
    },
    {
     "name": "stdout",
     "output_type": "stream",
     "text": [
      "(127,)\n",
      "NGC6101\n"
     ]
    },
    {
     "name": "stderr",
     "output_type": "stream",
     "text": [
      "\r",
      "46it [02:39,  3.59s/it]"
     ]
    },
    {
     "name": "stdout",
     "output_type": "stream",
     "text": [
      "(0,)\n",
      "NGC6144\n"
     ]
    },
    {
     "name": "stderr",
     "output_type": "stream",
     "text": [
      "\r",
      "47it [02:43,  3.57s/it]"
     ]
    },
    {
     "name": "stdout",
     "output_type": "stream",
     "text": [
      "(0,)\n",
      "NGC6139\n"
     ]
    },
    {
     "name": "stderr",
     "output_type": "stream",
     "text": [
      "\r",
      "48it [02:46,  3.57s/it]"
     ]
    },
    {
     "name": "stdout",
     "output_type": "stream",
     "text": [
      "(0,)\n",
      "Terzan3\n"
     ]
    },
    {
     "name": "stderr",
     "output_type": "stream",
     "text": [
      "\r",
      "49it [02:50,  3.56s/it]"
     ]
    },
    {
     "name": "stdout",
     "output_type": "stream",
     "text": [
      "(0,)\n",
      "NGC6171\n"
     ]
    },
    {
     "name": "stderr",
     "output_type": "stream",
     "text": [
      "\r",
      "50it [02:53,  3.55s/it]"
     ]
    },
    {
     "name": "stdout",
     "output_type": "stream",
     "text": [
      "(0,)\n",
      "NGC6205\n"
     ]
    },
    {
     "name": "stderr",
     "output_type": "stream",
     "text": [
      "\r",
      "51it [02:57,  3.53s/it]"
     ]
    },
    {
     "name": "stdout",
     "output_type": "stream",
     "text": [
      "(0,)\n",
      "NGC6229\n"
     ]
    },
    {
     "name": "stderr",
     "output_type": "stream",
     "text": [
      "\r",
      "52it [03:00,  3.50s/it]"
     ]
    },
    {
     "name": "stdout",
     "output_type": "stream",
     "text": [
      "(0,)\n",
      "NGC6218\n"
     ]
    },
    {
     "name": "stderr",
     "output_type": "stream",
     "text": [
      "\r",
      "53it [03:04,  3.48s/it]"
     ]
    },
    {
     "name": "stdout",
     "output_type": "stream",
     "text": [
      "(125,)\n",
      "NGC6235\n"
     ]
    },
    {
     "name": "stderr",
     "output_type": "stream",
     "text": [
      "\r",
      "54it [03:07,  3.50s/it]"
     ]
    },
    {
     "name": "stdout",
     "output_type": "stream",
     "text": [
      "(0,)\n",
      "NGC6254\n"
     ]
    },
    {
     "name": "stderr",
     "output_type": "stream",
     "text": [
      "\r",
      "55it [03:11,  3.51s/it]"
     ]
    },
    {
     "name": "stdout",
     "output_type": "stream",
     "text": [
      "(83,)\n",
      "NGC6256\n"
     ]
    },
    {
     "name": "stderr",
     "output_type": "stream",
     "text": [
      "\r",
      "56it [03:14,  3.49s/it]"
     ]
    },
    {
     "name": "stdout",
     "output_type": "stream",
     "text": [
      "(0,)\n",
      "Pal15\n"
     ]
    },
    {
     "name": "stderr",
     "output_type": "stream",
     "text": [
      "\r",
      "57it [03:18,  3.49s/it]"
     ]
    },
    {
     "name": "stdout",
     "output_type": "stream",
     "text": [
      "(0,)\n",
      "NGC6266\n"
     ]
    },
    {
     "name": "stderr",
     "output_type": "stream",
     "text": [
      "\r",
      "58it [03:21,  3.53s/it]"
     ]
    },
    {
     "name": "stdout",
     "output_type": "stream",
     "text": [
      "(0,)\n",
      "NGC6273\n"
     ]
    },
    {
     "name": "stderr",
     "output_type": "stream",
     "text": [
      "\r",
      "59it [03:25,  3.53s/it]"
     ]
    },
    {
     "name": "stdout",
     "output_type": "stream",
     "text": [
      "(0,)\n",
      "NGC6284\n"
     ]
    },
    {
     "name": "stderr",
     "output_type": "stream",
     "text": [
      "\r",
      "60it [03:28,  3.50s/it]"
     ]
    },
    {
     "name": "stdout",
     "output_type": "stream",
     "text": [
      "(0,)\n",
      "NGC6287\n"
     ]
    },
    {
     "name": "stderr",
     "output_type": "stream",
     "text": [
      "\r",
      "61it [03:32,  3.50s/it]"
     ]
    },
    {
     "name": "stdout",
     "output_type": "stream",
     "text": [
      "(0,)\n",
      "NGC6293\n"
     ]
    },
    {
     "name": "stderr",
     "output_type": "stream",
     "text": [
      "\r",
      "62it [03:35,  3.52s/it]"
     ]
    },
    {
     "name": "stdout",
     "output_type": "stream",
     "text": [
      "(0,)\n",
      "NGC6304\n"
     ]
    },
    {
     "name": "stderr",
     "output_type": "stream",
     "text": [
      "\r",
      "63it [03:39,  3.60s/it]"
     ]
    },
    {
     "name": "stdout",
     "output_type": "stream",
     "text": [
      "(2,)\n",
      "NGC6316\n"
     ]
    },
    {
     "name": "stderr",
     "output_type": "stream",
     "text": [
      "\r",
      "64it [03:43,  3.63s/it]"
     ]
    },
    {
     "name": "stdout",
     "output_type": "stream",
     "text": [
      "(6,)\n",
      "NGC6341\n"
     ]
    },
    {
     "name": "stderr",
     "output_type": "stream",
     "text": [
      "\r",
      "65it [03:46,  3.60s/it]"
     ]
    },
    {
     "name": "stdout",
     "output_type": "stream",
     "text": [
      "(0,)\n",
      "NGC6325\n"
     ]
    },
    {
     "name": "stderr",
     "output_type": "stream",
     "text": [
      "\r",
      "66it [03:50,  3.69s/it]"
     ]
    },
    {
     "name": "stdout",
     "output_type": "stream",
     "text": [
      "(0,)\n",
      "NGC6333\n"
     ]
    },
    {
     "name": "stderr",
     "output_type": "stream",
     "text": [
      "\r",
      "67it [03:54,  3.71s/it]"
     ]
    },
    {
     "name": "stdout",
     "output_type": "stream",
     "text": [
      "(0,)\n",
      "NGC6342\n"
     ]
    },
    {
     "name": "stderr",
     "output_type": "stream",
     "text": [
      "\r",
      "68it [03:58,  3.73s/it]"
     ]
    },
    {
     "name": "stdout",
     "output_type": "stream",
     "text": [
      "(0,)\n",
      "NGC6356\n"
     ]
    },
    {
     "name": "stderr",
     "output_type": "stream",
     "text": [
      "\r",
      "69it [04:02,  3.73s/it]"
     ]
    },
    {
     "name": "stdout",
     "output_type": "stream",
     "text": [
      "(0,)\n",
      "NGC6355\n"
     ]
    },
    {
     "name": "stderr",
     "output_type": "stream",
     "text": [
      "\r",
      "70it [04:05,  3.77s/it]"
     ]
    },
    {
     "name": "stdout",
     "output_type": "stream",
     "text": [
      "(0,)\n",
      "NGC6352\n"
     ]
    },
    {
     "name": "stderr",
     "output_type": "stream",
     "text": [
      "\r",
      "71it [04:09,  3.76s/it]"
     ]
    },
    {
     "name": "stdout",
     "output_type": "stream",
     "text": [
      "(0,)\n",
      "IC1257\n"
     ]
    },
    {
     "name": "stderr",
     "output_type": "stream",
     "text": [
      "\r",
      "72it [04:13,  3.65s/it]"
     ]
    },
    {
     "name": "stdout",
     "output_type": "stream",
     "text": [
      "(0,)\n",
      "Terzan2\n"
     ]
    },
    {
     "name": "stderr",
     "output_type": "stream",
     "text": [
      "\r",
      "73it [04:16,  3.57s/it]"
     ]
    },
    {
     "name": "stdout",
     "output_type": "stream",
     "text": [
      "(0,)\n",
      "NGC6366\n"
     ]
    },
    {
     "name": "stderr",
     "output_type": "stream",
     "text": [
      "\r",
      "74it [04:19,  3.51s/it]"
     ]
    },
    {
     "name": "stdout",
     "output_type": "stream",
     "text": [
      "(0,)\n",
      "Terzan4\n"
     ]
    },
    {
     "name": "stderr",
     "output_type": "stream",
     "text": [
      "\r",
      "75it [04:23,  3.49s/it]"
     ]
    },
    {
     "name": "stdout",
     "output_type": "stream",
     "text": [
      "(1,)\n",
      "HP1\n"
     ]
    },
    {
     "name": "stderr",
     "output_type": "stream",
     "text": [
      "\r",
      "76it [04:26,  3.45s/it]"
     ]
    },
    {
     "name": "stdout",
     "output_type": "stream",
     "text": [
      "(7,)\n",
      "NGC6362\n"
     ]
    },
    {
     "name": "stderr",
     "output_type": "stream",
     "text": [
      "\r",
      "77it [04:30,  3.45s/it]"
     ]
    },
    {
     "name": "stdout",
     "output_type": "stream",
     "text": [
      "(0,)\n",
      "Liller1\n"
     ]
    },
    {
     "name": "stderr",
     "output_type": "stream",
     "text": [
      "\r",
      "78it [04:33,  3.43s/it]"
     ]
    },
    {
     "name": "stdout",
     "output_type": "stream",
     "text": [
      "(0,)\n",
      "NGC6380\n"
     ]
    },
    {
     "name": "stderr",
     "output_type": "stream",
     "text": [
      "\r",
      "79it [04:36,  3.44s/it]"
     ]
    },
    {
     "name": "stdout",
     "output_type": "stream",
     "text": [
      "(3,)\n",
      "Terzan1\n"
     ]
    },
    {
     "name": "stderr",
     "output_type": "stream",
     "text": [
      "\r",
      "80it [04:40,  3.44s/it]"
     ]
    },
    {
     "name": "stdout",
     "output_type": "stream",
     "text": [
      "(0,)\n",
      "Ton2\n"
     ]
    },
    {
     "name": "stderr",
     "output_type": "stream",
     "text": [
      "\r",
      "81it [04:43,  3.47s/it]"
     ]
    },
    {
     "name": "stdout",
     "output_type": "stream",
     "text": [
      "(0,)\n",
      "NGC6388\n"
     ]
    },
    {
     "name": "stderr",
     "output_type": "stream",
     "text": [
      "\r",
      "82it [04:47,  3.49s/it]"
     ]
    },
    {
     "name": "stdout",
     "output_type": "stream",
     "text": [
      "(0,)\n",
      "NGC6402\n"
     ]
    },
    {
     "name": "stderr",
     "output_type": "stream",
     "text": [
      "\r",
      "83it [04:50,  3.47s/it]"
     ]
    },
    {
     "name": "stdout",
     "output_type": "stream",
     "text": [
      "(0,)\n",
      "NGC6401\n"
     ]
    },
    {
     "name": "stderr",
     "output_type": "stream",
     "text": [
      "\r",
      "84it [04:54,  3.46s/it]"
     ]
    },
    {
     "name": "stdout",
     "output_type": "stream",
     "text": [
      "(3,)\n",
      "NGC6397\n"
     ]
    },
    {
     "name": "stderr",
     "output_type": "stream",
     "text": [
      "\r",
      "85it [04:57,  3.44s/it]"
     ]
    },
    {
     "name": "stdout",
     "output_type": "stream",
     "text": [
      "(167,)\n",
      "Pal6\n"
     ]
    },
    {
     "name": "stderr",
     "output_type": "stream",
     "text": [
      "\r",
      "86it [05:01,  3.43s/it]"
     ]
    },
    {
     "name": "stdout",
     "output_type": "stream",
     "text": [
      "(8,)\n",
      "NGC6426\n"
     ]
    },
    {
     "name": "stderr",
     "output_type": "stream",
     "text": [
      "\r",
      "87it [05:04,  3.55s/it]"
     ]
    },
    {
     "name": "stdout",
     "output_type": "stream",
     "text": [
      "(0,)\n",
      "Djorg1\n"
     ]
    },
    {
     "name": "stderr",
     "output_type": "stream",
     "text": [
      "\r",
      "88it [05:08,  3.62s/it]"
     ]
    },
    {
     "name": "stdout",
     "output_type": "stream",
     "text": [
      "(0,)\n",
      "Terzan5\n"
     ]
    },
    {
     "name": "stderr",
     "output_type": "stream",
     "text": [
      "\r",
      "89it [05:12,  3.64s/it]"
     ]
    },
    {
     "name": "stdout",
     "output_type": "stream",
     "text": [
      "(22,)\n",
      "NGC6440\n"
     ]
    },
    {
     "name": "stderr",
     "output_type": "stream",
     "text": [
      "\r",
      "90it [05:15,  3.62s/it]"
     ]
    },
    {
     "name": "stdout",
     "output_type": "stream",
     "text": [
      "(0,)\n",
      "NGC6441\n"
     ]
    },
    {
     "name": "stderr",
     "output_type": "stream",
     "text": [
      "\r",
      "91it [05:19,  3.63s/it]"
     ]
    },
    {
     "name": "stdout",
     "output_type": "stream",
     "text": [
      "(0,)\n",
      "Terzan6\n"
     ]
    },
    {
     "name": "stderr",
     "output_type": "stream",
     "text": [
      "\r",
      "92it [05:23,  3.59s/it]"
     ]
    },
    {
     "name": "stdout",
     "output_type": "stream",
     "text": [
      "(0,)\n",
      "NGC6453\n"
     ]
    },
    {
     "name": "stderr",
     "output_type": "stream",
     "text": [
      "\r",
      "93it [05:26,  3.60s/it]"
     ]
    },
    {
     "name": "stdout",
     "output_type": "stream",
     "text": [
      "(3,)\n",
      "UKS1\n"
     ]
    },
    {
     "name": "stderr",
     "output_type": "stream",
     "text": [
      "\r",
      "94it [05:30,  3.55s/it]"
     ]
    },
    {
     "name": "stdout",
     "output_type": "stream",
     "text": [
      "(0,)\n",
      "NGC6496\n"
     ]
    },
    {
     "name": "stderr",
     "output_type": "stream",
     "text": [
      "\r",
      "95it [05:33,  3.52s/it]"
     ]
    },
    {
     "name": "stdout",
     "output_type": "stream",
     "text": [
      "(0,)\n",
      "Terzan9\n"
     ]
    },
    {
     "name": "stderr",
     "output_type": "stream",
     "text": [
      "\r",
      "96it [05:37,  3.56s/it]"
     ]
    },
    {
     "name": "stdout",
     "output_type": "stream",
     "text": [
      "(0,)\n",
      "NGC6517\n"
     ]
    },
    {
     "name": "stderr",
     "output_type": "stream",
     "text": [
      "\r",
      "97it [05:41,  3.64s/it]"
     ]
    },
    {
     "name": "stdout",
     "output_type": "stream",
     "text": [
      "(27,)\n",
      "NGC6522\n"
     ]
    },
    {
     "name": "stderr",
     "output_type": "stream",
     "text": [
      "\r",
      "98it [05:44,  3.62s/it]"
     ]
    },
    {
     "name": "stdout",
     "output_type": "stream",
     "text": [
      "(13,)\n",
      "NGC6535\n"
     ]
    },
    {
     "name": "stderr",
     "output_type": "stream",
     "text": [
      "\r",
      "99it [05:48,  3.56s/it]"
     ]
    },
    {
     "name": "stdout",
     "output_type": "stream",
     "text": [
      "(0,)\n",
      "NGC6528\n"
     ]
    },
    {
     "name": "stderr",
     "output_type": "stream",
     "text": [
      "\r",
      "100it [05:51,  3.53s/it]"
     ]
    },
    {
     "name": "stdout",
     "output_type": "stream",
     "text": [
      "(0,)\n",
      "NGC6539\n"
     ]
    },
    {
     "name": "stderr",
     "output_type": "stream",
     "text": [
      "\r",
      "101it [05:55,  3.54s/it]"
     ]
    },
    {
     "name": "stdout",
     "output_type": "stream",
     "text": [
      "(19,)\n",
      "NGC6540\n"
     ]
    },
    {
     "name": "stderr",
     "output_type": "stream",
     "text": [
      "\r",
      "102it [05:58,  3.55s/it]"
     ]
    },
    {
     "name": "stdout",
     "output_type": "stream",
     "text": [
      "(6,)\n",
      "NGC6544\n"
     ]
    },
    {
     "name": "stderr",
     "output_type": "stream",
     "text": [
      "\r",
      "103it [06:02,  3.55s/it]"
     ]
    },
    {
     "name": "stdout",
     "output_type": "stream",
     "text": [
      "(68,)\n",
      "NGC6541\n"
     ]
    },
    {
     "name": "stderr",
     "output_type": "stream",
     "text": [
      "\r",
      "104it [06:05,  3.57s/it]"
     ]
    },
    {
     "name": "stdout",
     "output_type": "stream",
     "text": [
      "(0,)\n",
      "NGC6553\n"
     ]
    },
    {
     "name": "stderr",
     "output_type": "stream",
     "text": [
      "\r",
      "105it [06:09,  3.62s/it]"
     ]
    },
    {
     "name": "stdout",
     "output_type": "stream",
     "text": [
      "(13,)\n",
      "NGC6558\n"
     ]
    },
    {
     "name": "stderr",
     "output_type": "stream",
     "text": [
      "\r",
      "106it [06:13,  3.63s/it]"
     ]
    },
    {
     "name": "stdout",
     "output_type": "stream",
     "text": [
      "(0,)\n",
      "IC1276\n"
     ]
    },
    {
     "name": "stderr",
     "output_type": "stream",
     "text": [
      "\r",
      "107it [06:16,  3.64s/it]"
     ]
    },
    {
     "name": "stdout",
     "output_type": "stream",
     "text": [
      "(0,)\n",
      "NGC6569\n"
     ]
    },
    {
     "name": "stderr",
     "output_type": "stream",
     "text": [
      "\r",
      "108it [06:20,  3.61s/it]"
     ]
    },
    {
     "name": "stdout",
     "output_type": "stream",
     "text": [
      "(0,)\n",
      "BH261\n"
     ]
    },
    {
     "name": "stderr",
     "output_type": "stream",
     "text": [
      "\r",
      "109it [06:23,  3.56s/it]"
     ]
    },
    {
     "name": "stdout",
     "output_type": "stream",
     "text": [
      "(5,)\n",
      "NGC6584\n"
     ]
    },
    {
     "name": "stderr",
     "output_type": "stream",
     "text": [
      "\r",
      "110it [06:27,  3.51s/it]"
     ]
    },
    {
     "name": "stdout",
     "output_type": "stream",
     "text": [
      "(0,)\n",
      "NGC6624\n"
     ]
    },
    {
     "name": "stderr",
     "output_type": "stream",
     "text": [
      "\r",
      "111it [06:30,  3.54s/it]"
     ]
    },
    {
     "name": "stdout",
     "output_type": "stream",
     "text": [
      "(0,)\n",
      "NGC6626\n"
     ]
    },
    {
     "name": "stderr",
     "output_type": "stream",
     "text": [
      "\r",
      "112it [06:34,  3.55s/it]"
     ]
    },
    {
     "name": "stdout",
     "output_type": "stream",
     "text": [
      "(0,)\n",
      "NGC6638\n"
     ]
    },
    {
     "name": "stderr",
     "output_type": "stream",
     "text": [
      "\r",
      "113it [06:37,  3.54s/it]"
     ]
    },
    {
     "name": "stdout",
     "output_type": "stream",
     "text": [
      "(0,)\n",
      "NGC6637\n"
     ]
    },
    {
     "name": "stderr",
     "output_type": "stream",
     "text": [
      "\r",
      "114it [06:41,  3.53s/it]"
     ]
    },
    {
     "name": "stdout",
     "output_type": "stream",
     "text": [
      "(0,)\n",
      "NGC6642\n"
     ]
    },
    {
     "name": "stderr",
     "output_type": "stream",
     "text": [
      "\r",
      "115it [06:45,  3.52s/it]"
     ]
    },
    {
     "name": "stdout",
     "output_type": "stream",
     "text": [
      "(2,)\n",
      "NGC6652\n"
     ]
    },
    {
     "name": "stderr",
     "output_type": "stream",
     "text": [
      "\r",
      "116it [06:48,  3.52s/it]"
     ]
    },
    {
     "name": "stdout",
     "output_type": "stream",
     "text": [
      "(0,)\n",
      "NGC6656\n"
     ]
    },
    {
     "name": "stderr",
     "output_type": "stream",
     "text": [
      "\r",
      "117it [06:52,  3.53s/it]"
     ]
    },
    {
     "name": "stdout",
     "output_type": "stream",
     "text": [
      "(32,)\n",
      "Pal8\n"
     ]
    },
    {
     "name": "stderr",
     "output_type": "stream",
     "text": [
      "\r",
      "118it [06:55,  3.59s/it]"
     ]
    },
    {
     "name": "stdout",
     "output_type": "stream",
     "text": [
      "(0,)\n",
      "NGC6681\n"
     ]
    },
    {
     "name": "stderr",
     "output_type": "stream",
     "text": [
      "\r",
      "119it [06:59,  3.60s/it]"
     ]
    },
    {
     "name": "stdout",
     "output_type": "stream",
     "text": [
      "(0,)\n",
      "NGC6712\n"
     ]
    },
    {
     "name": "stderr",
     "output_type": "stream",
     "text": [
      "\r",
      "120it [07:02,  3.58s/it]"
     ]
    },
    {
     "name": "stdout",
     "output_type": "stream",
     "text": [
      "(0,)\n",
      "NGC6715\n"
     ]
    },
    {
     "name": "stderr",
     "output_type": "stream",
     "text": [
      "\r",
      "121it [07:06,  3.58s/it]"
     ]
    },
    {
     "name": "stdout",
     "output_type": "stream",
     "text": [
      "(95,)\n",
      "NGC6717\n"
     ]
    },
    {
     "name": "stderr",
     "output_type": "stream",
     "text": [
      "\r",
      "122it [07:10,  3.56s/it]"
     ]
    },
    {
     "name": "stdout",
     "output_type": "stream",
     "text": [
      "(0,)\n",
      "NGC6723\n"
     ]
    },
    {
     "name": "stderr",
     "output_type": "stream",
     "text": [
      "\r",
      "123it [07:13,  3.57s/it]"
     ]
    },
    {
     "name": "stdout",
     "output_type": "stream",
     "text": [
      "(5,)\n",
      "NGC6749\n"
     ]
    },
    {
     "name": "stderr",
     "output_type": "stream",
     "text": [
      "\r",
      "124it [07:17,  3.59s/it]"
     ]
    },
    {
     "name": "stdout",
     "output_type": "stream",
     "text": [
      "(0,)\n",
      "NGC6752\n"
     ]
    },
    {
     "name": "stderr",
     "output_type": "stream",
     "text": [
      "\r",
      "125it [07:20,  3.60s/it]"
     ]
    },
    {
     "name": "stdout",
     "output_type": "stream",
     "text": [
      "(193,)\n",
      "NGC6760\n"
     ]
    },
    {
     "name": "stderr",
     "output_type": "stream",
     "text": [
      "\r",
      "126it [07:24,  3.61s/it]"
     ]
    },
    {
     "name": "stdout",
     "output_type": "stream",
     "text": [
      "(2,)\n",
      "NGC6779\n"
     ]
    },
    {
     "name": "stderr",
     "output_type": "stream",
     "text": [
      "\r",
      "127it [07:28,  3.57s/it]"
     ]
    },
    {
     "name": "stdout",
     "output_type": "stream",
     "text": [
      "(0,)\n",
      "Terzan7\n"
     ]
    },
    {
     "name": "stderr",
     "output_type": "stream",
     "text": [
      "\r",
      "128it [07:31,  3.52s/it]"
     ]
    },
    {
     "name": "stdout",
     "output_type": "stream",
     "text": [
      "(0,)\n",
      "Pal10\n"
     ]
    },
    {
     "name": "stderr",
     "output_type": "stream",
     "text": [
      "\r",
      "129it [07:34,  3.50s/it]"
     ]
    },
    {
     "name": "stdout",
     "output_type": "stream",
     "text": [
      "(7,)\n",
      "Arp2\n"
     ]
    },
    {
     "name": "stderr",
     "output_type": "stream",
     "text": [
      "\r",
      "130it [07:38,  3.50s/it]"
     ]
    },
    {
     "name": "stdout",
     "output_type": "stream",
     "text": [
      "(0,)\n",
      "NGC6809\n"
     ]
    },
    {
     "name": "stderr",
     "output_type": "stream",
     "text": [
      "\r",
      "131it [07:42,  3.55s/it]"
     ]
    },
    {
     "name": "stdout",
     "output_type": "stream",
     "text": [
      "(76,)\n",
      "Terzan8\n"
     ]
    },
    {
     "name": "stderr",
     "output_type": "stream",
     "text": [
      "\r",
      "132it [07:45,  3.56s/it]"
     ]
    },
    {
     "name": "stdout",
     "output_type": "stream",
     "text": [
      "(0,)\n",
      "Pal11\n"
     ]
    },
    {
     "name": "stderr",
     "output_type": "stream",
     "text": [
      "\r",
      "133it [07:49,  3.51s/it]"
     ]
    },
    {
     "name": "stdout",
     "output_type": "stream",
     "text": [
      "(0,)\n",
      "NGC6838\n"
     ]
    },
    {
     "name": "stderr",
     "output_type": "stream",
     "text": [
      "\r",
      "134it [07:52,  3.50s/it]"
     ]
    },
    {
     "name": "stdout",
     "output_type": "stream",
     "text": [
      "(97,)\n",
      "NGC6864\n"
     ]
    },
    {
     "name": "stderr",
     "output_type": "stream",
     "text": [
      "\r",
      "135it [07:56,  3.54s/it]"
     ]
    },
    {
     "name": "stdout",
     "output_type": "stream",
     "text": [
      "(0,)\n",
      "NGC6934\n"
     ]
    },
    {
     "name": "stderr",
     "output_type": "stream",
     "text": [
      "\r",
      "136it [07:59,  3.51s/it]"
     ]
    },
    {
     "name": "stdout",
     "output_type": "stream",
     "text": [
      "(0,)\n",
      "NGC6981\n"
     ]
    },
    {
     "name": "stderr",
     "output_type": "stream",
     "text": [
      "\r",
      "137it [08:03,  3.51s/it]"
     ]
    },
    {
     "name": "stdout",
     "output_type": "stream",
     "text": [
      "(0,)\n",
      "NGC7006\n"
     ]
    },
    {
     "name": "stderr",
     "output_type": "stream",
     "text": [
      "\r",
      "138it [08:06,  3.50s/it]"
     ]
    },
    {
     "name": "stdout",
     "output_type": "stream",
     "text": [
      "(0,)\n",
      "NGC7078\n"
     ]
    },
    {
     "name": "stderr",
     "output_type": "stream",
     "text": [
      "\r",
      "139it [08:10,  3.73s/it]"
     ]
    },
    {
     "name": "stdout",
     "output_type": "stream",
     "text": [
      "(8,)\n",
      "NGC7089\n"
     ]
    },
    {
     "name": "stderr",
     "output_type": "stream",
     "text": [
      "\r",
      "140it [08:14,  3.69s/it]"
     ]
    },
    {
     "name": "stdout",
     "output_type": "stream",
     "text": [
      "(93,)\n",
      "NGC7099\n"
     ]
    },
    {
     "name": "stderr",
     "output_type": "stream",
     "text": [
      "\r",
      "141it [08:18,  3.70s/it]"
     ]
    },
    {
     "name": "stdout",
     "output_type": "stream",
     "text": [
      "(0,)\n",
      "Pal12\n"
     ]
    },
    {
     "ename": "KeyboardInterrupt",
     "evalue": "",
     "output_type": "error",
     "traceback": [
      "\u001b[0;31m---------------------------------------------------------------------------\u001b[0m",
      "\u001b[0;31mKeyboardInterrupt\u001b[0m                         Traceback (most recent call last)",
      "\u001b[0;32m<ipython-input-35-fcf68e6fc9ff>\u001b[0m in \u001b[0;36m<module>\u001b[0;34m\u001b[0m\n\u001b[1;32m     13\u001b[0m     \u001b[0;32mfor\u001b[0m \u001b[0mindx\u001b[0m\u001b[0;34m,\u001b[0m\u001b[0mi\u001b[0m \u001b[0;32min\u001b[0m \u001b[0menumerate\u001b[0m\u001b[0;34m(\u001b[0m\u001b[0mrange\u001b[0m\u001b[0;34m(\u001b[0m\u001b[0mglon\u001b[0m\u001b[0;34m.\u001b[0m\u001b[0mshape\u001b[0m\u001b[0;34m[\u001b[0m\u001b[0;36m0\u001b[0m\u001b[0;34m]\u001b[0m\u001b[0;34m-\u001b[0m\u001b[0;36m1\u001b[0m\u001b[0;34m)\u001b[0m\u001b[0;34m)\u001b[0m\u001b[0;34m:\u001b[0m\u001b[0;34m\u001b[0m\u001b[0;34m\u001b[0m\u001b[0m\n\u001b[1;32m     14\u001b[0m \u001b[0;31m#           calculate the projected distance of a star to the cluster\u001b[0m\u001b[0;34m\u001b[0m\u001b[0;34m\u001b[0m\u001b[0;34m\u001b[0m\u001b[0m\n\u001b[0;32m---> 15\u001b[0;31m         \u001b[0md\u001b[0m \u001b[0;34m=\u001b[0m \u001b[0mnp\u001b[0m\u001b[0;34m.\u001b[0m\u001b[0msqrt\u001b[0m\u001b[0;34m(\u001b[0m\u001b[0;34m(\u001b[0m\u001b[0;34m(\u001b[0m\u001b[0mglon\u001b[0m\u001b[0;34m[\u001b[0m\u001b[0mi\u001b[0m\u001b[0;34m]\u001b[0m\u001b[0;34m-\u001b[0m\u001b[0mglon_gc\u001b[0m\u001b[0;34m[\u001b[0m\u001b[0ma\u001b[0m\u001b[0;34m]\u001b[0m\u001b[0;34m)\u001b[0m\u001b[0;34m*\u001b[0m\u001b[0;34m(\u001b[0m\u001b[0mnp\u001b[0m\u001b[0;34m.\u001b[0m\u001b[0mcos\u001b[0m\u001b[0;34m(\u001b[0m\u001b[0mglat_gc\u001b[0m\u001b[0;34m[\u001b[0m\u001b[0ma\u001b[0m\u001b[0;34m]\u001b[0m\u001b[0;34m*\u001b[0m\u001b[0mnp\u001b[0m\u001b[0;34m.\u001b[0m\u001b[0mpi\u001b[0m\u001b[0;34m/\u001b[0m\u001b[0;36m180\u001b[0m\u001b[0;34m)\u001b[0m\u001b[0;34m)\u001b[0m\u001b[0;34m)\u001b[0m\u001b[0;34m**\u001b[0m\u001b[0;36m2\u001b[0m\u001b[0;34m+\u001b[0m\u001b[0;34m(\u001b[0m\u001b[0;34m(\u001b[0m\u001b[0mglat\u001b[0m\u001b[0;34m[\u001b[0m\u001b[0mi\u001b[0m\u001b[0;34m]\u001b[0m\u001b[0;34m-\u001b[0m\u001b[0mglat_gc\u001b[0m\u001b[0;34m[\u001b[0m\u001b[0ma\u001b[0m\u001b[0;34m]\u001b[0m\u001b[0;34m)\u001b[0m\u001b[0;34m**\u001b[0m\u001b[0;36m2\u001b[0m\u001b[0;34m)\u001b[0m\u001b[0;34m)\u001b[0m\u001b[0;34m\u001b[0m\u001b[0;34m\u001b[0m\u001b[0m\n\u001b[0m\u001b[1;32m     16\u001b[0m \u001b[0;31m#           calculate the X term in Nataf et al 2019 for proper motion cut\u001b[0m\u001b[0;34m\u001b[0m\u001b[0;34m\u001b[0m\u001b[0;34m\u001b[0m\u001b[0m\n\u001b[1;32m     17\u001b[0m \u001b[0;31m#             x = (((pmra[i]-pmra_gc[a])**2/(pmra_gc_err[a]**2+pmra_err[i]**2))+\\\u001b[0m\u001b[0;34m\u001b[0m\u001b[0;34m\u001b[0m\u001b[0;34m\u001b[0m\u001b[0m\n",
      "\u001b[0;31mKeyboardInterrupt\u001b[0m: "
     ]
    }
   ],
   "source": [
    "# loop through all the GCs and find stars in APOGEE given our selection criteria\n",
    "from math import nan\n",
    "\n",
    "# for every index and value in glon_gc\n",
    "for indx2,j in tqdm.tqdm(enumerate(glon_gc)):\n",
    "    a=indx2 #get the index\n",
    "    b = names_gc[a] #find the name associated to that index\n",
    "    print(b)\n",
    "    gcs_indx = [] #create an array to which associate a gc name to a star\n",
    "#     lista = ['NGC6715','NGC5139','Terzan5']\n",
    "#     if b in lista:\n",
    "#         print('yes in lista')\n",
    "    for indx,i in enumerate(range(glon.shape[0]-1)):\n",
    "#           calculate the projected distance of a star to the cluster\n",
    "        d = np.sqrt(((glon[i]-glon_gc[a])*(np.cos(glat_gc[a]*np.pi/180)))**2+((glat[i]-glat_gc[a])**2))\n",
    "#           calculate the X term in Nataf et al 2019 for proper motion cut\n",
    "#             x = (((pmra[i]-pmra_gc[a])**2/(pmra_gc_err[a]**2+pmra_err[i]**2))+\\\n",
    "#                  ((pmdec[i]-pmdec_gc[a])**2/(pmdec_gc_err[a]**2+pmdec_err[i]**2)))\n",
    "        if (np.fabs(vlos[i]-vlos_gc[a])<=(2*vlos_disp_gc[a])):\n",
    "            if d<=((2*rt_d_gc[a])):\n",
    "#                     if x<=12:\n",
    "                    gcs_indx.append(indx)\n",
    "#     else:\n",
    "#         print('not in lista')\n",
    "#         for indx,i in enumerate(range(glon.shape[0]-1)):\n",
    "# #           calculate the projected distance of a star to the cluster\n",
    "#             d = np.sqrt(((glon[i]-glon_gc[a])*(np.cos(glat_gc[a]*np.pi/180)))**2+((glat[i]-glat_gc[a])**2))\n",
    "# #           calculate the X term in Nataf et al 2019 for proper motion cut\n",
    "# #             x = (((pmra[i]-pmra_gc[a])**2/(pmra_gc_err[a]**2+pmra_err[i]**2))+\\\n",
    "# #                  ((pmdec[i]-pmdec_gc[a])**2/(pmdec_gc_err[a]**2+pmdec_err[i]**2)))\n",
    "#             if (np.fabs(fe_h[i]-fe_h_gc[a])<=0.5):\n",
    "#                 if (np.fabs(vlos[i]-vlos_gc[a])<=(2*vlos_disp_gc[a])):\n",
    "#                     if d<=(((2*rt_d_gc[a]))):\n",
    "# #                         if x<=12:\n",
    "#                             gcs_indx.append(indx)\n",
    "    print(np.shape(gcs_indx))\n",
    "    gcs_id = apogee_id[gcs_indx].T\n",
    "    gc_name = np.array([b]*len(gcs_id)).T\n",
    "    total = ((gc_name,gcs_id))\n",
    "    rec = np.recarray(len(gcs_id), dtype=[('apogee_id',object),\n",
    "                                        ('name', object)])\n",
    "    rec['apogee_id'] = gcs_id\n",
    "    rec['name'] = gc_name\n",
    "    np.savetxt('/Users/qpasa/Desktop/GC_chemistry/statIndx/Baumgardt+Harris_selection_nofehs/'+b+'.txt',rec,fmt='%s')\n"
   ]
  },
  {
   "cell_type": "code",
   "execution_count": 36,
   "metadata": {},
   "outputs": [
    {
     "name": "stderr",
     "output_type": "stream",
     "text": [
      "/Users/qpasa/opt/anaconda3/lib/python3.7/site-packages/ipykernel_launcher.py:9: UserWarning: loadtxt: Empty input file: \"/Users/qpasa/Desktop/GC_chemistry/statIndx/Baumgardt+Harris_selection_nofehs/Rup106.txt\"\n",
      "  if __name__ == '__main__':\n",
      "/Users/qpasa/opt/anaconda3/lib/python3.7/site-packages/ipykernel_launcher.py:9: UserWarning: loadtxt: Empty input file: \"/Users/qpasa/Desktop/GC_chemistry/statIndx/Baumgardt+Harris_selection_nofehs/NGC6528.txt\"\n",
      "  if __name__ == '__main__':\n",
      "/Users/qpasa/opt/anaconda3/lib/python3.7/site-packages/ipykernel_launcher.py:9: UserWarning: loadtxt: Empty input file: \"/Users/qpasa/Desktop/GC_chemistry/statIndx/Baumgardt+Harris_selection_nofehs/NGC6266.txt\"\n",
      "  if __name__ == '__main__':\n",
      "/Users/qpasa/opt/anaconda3/lib/python3.7/site-packages/ipykernel_launcher.py:9: UserWarning: loadtxt: Empty input file: \"/Users/qpasa/Desktop/GC_chemistry/statIndx/Baumgardt+Harris_selection_nofehs/NGC6273.txt\"\n",
      "  if __name__ == '__main__':\n",
      "/Users/qpasa/opt/anaconda3/lib/python3.7/site-packages/ipykernel_launcher.py:9: UserWarning: loadtxt: Empty input file: \"/Users/qpasa/Desktop/GC_chemistry/statIndx/Baumgardt+Harris_selection_nofehs/NGC6717.txt\"\n",
      "  if __name__ == '__main__':\n",
      "/Users/qpasa/opt/anaconda3/lib/python3.7/site-packages/ipykernel_launcher.py:9: UserWarning: loadtxt: Empty input file: \"/Users/qpasa/Desktop/GC_chemistry/statIndx/Baumgardt+Harris_selection_nofehs/NGC6139.txt\"\n",
      "  if __name__ == '__main__':\n",
      "/Users/qpasa/opt/anaconda3/lib/python3.7/site-packages/ipykernel_launcher.py:9: UserWarning: loadtxt: Empty input file: \"/Users/qpasa/Desktop/GC_chemistry/statIndx/Baumgardt+Harris_selection_nofehs/NGC6101.txt\"\n",
      "  if __name__ == '__main__':\n",
      "/Users/qpasa/opt/anaconda3/lib/python3.7/site-packages/ipykernel_launcher.py:9: UserWarning: loadtxt: Empty input file: \"/Users/qpasa/Desktop/GC_chemistry/statIndx/Baumgardt+Harris_selection_nofehs/NGC6934.txt\"\n",
      "  if __name__ == '__main__':\n",
      "/Users/qpasa/opt/anaconda3/lib/python3.7/site-packages/ipykernel_launcher.py:9: UserWarning: loadtxt: Empty input file: \"/Users/qpasa/Desktop/GC_chemistry/statIndx/Baumgardt+Harris_selection_nofehs/Pal8.txt\"\n",
      "  if __name__ == '__main__':\n",
      "/Users/qpasa/opt/anaconda3/lib/python3.7/site-packages/ipykernel_launcher.py:9: UserWarning: loadtxt: Empty input file: \"/Users/qpasa/Desktop/GC_chemistry/statIndx/Baumgardt+Harris_selection_nofehs/NGC5024.txt\"\n",
      "  if __name__ == '__main__':\n",
      "/Users/qpasa/opt/anaconda3/lib/python3.7/site-packages/ipykernel_launcher.py:9: UserWarning: loadtxt: Empty input file: \"/Users/qpasa/Desktop/GC_chemistry/statIndx/Baumgardt+Harris_selection_nofehs/NGC6712.txt\"\n",
      "  if __name__ == '__main__':\n",
      "/Users/qpasa/opt/anaconda3/lib/python3.7/site-packages/ipykernel_launcher.py:9: UserWarning: loadtxt: Empty input file: \"/Users/qpasa/Desktop/GC_chemistry/statIndx/Baumgardt+Harris_selection_nofehs/Liller1.txt\"\n",
      "  if __name__ == '__main__':\n",
      "/Users/qpasa/opt/anaconda3/lib/python3.7/site-packages/ipykernel_launcher.py:9: UserWarning: loadtxt: Empty input file: \"/Users/qpasa/Desktop/GC_chemistry/statIndx/Baumgardt+Harris_selection_nofehs/NGC5634.txt\"\n",
      "  if __name__ == '__main__':\n",
      "/Users/qpasa/opt/anaconda3/lib/python3.7/site-packages/ipykernel_launcher.py:9: UserWarning: loadtxt: Empty input file: \"/Users/qpasa/Desktop/GC_chemistry/statIndx/Baumgardt+Harris_selection_nofehs/NGC6366.txt\"\n",
      "  if __name__ == '__main__':\n",
      "/Users/qpasa/opt/anaconda3/lib/python3.7/site-packages/ipykernel_launcher.py:9: UserWarning: loadtxt: Empty input file: \"/Users/qpasa/Desktop/GC_chemistry/statIndx/Baumgardt+Harris_selection_nofehs/NGC6171.txt\"\n",
      "  if __name__ == '__main__':\n",
      "/Users/qpasa/opt/anaconda3/lib/python3.7/site-packages/ipykernel_launcher.py:9: UserWarning: loadtxt: Empty input file: \"/Users/qpasa/Desktop/GC_chemistry/statIndx/Baumgardt+Harris_selection_nofehs/IC1276.txt\"\n",
      "  if __name__ == '__main__':\n",
      "/Users/qpasa/opt/anaconda3/lib/python3.7/site-packages/ipykernel_launcher.py:9: UserWarning: loadtxt: Empty input file: \"/Users/qpasa/Desktop/GC_chemistry/statIndx/Baumgardt+Harris_selection_nofehs/Terzan8.txt\"\n",
      "  if __name__ == '__main__':\n",
      "/Users/qpasa/opt/anaconda3/lib/python3.7/site-packages/ipykernel_launcher.py:9: UserWarning: loadtxt: Empty input file: \"/Users/qpasa/Desktop/GC_chemistry/statIndx/Baumgardt+Harris_selection_nofehs/NGC6749.txt\"\n",
      "  if __name__ == '__main__':\n",
      "/Users/qpasa/opt/anaconda3/lib/python3.7/site-packages/ipykernel_launcher.py:9: UserWarning: loadtxt: Empty input file: \"/Users/qpasa/Desktop/GC_chemistry/statIndx/Baumgardt+Harris_selection_nofehs/NGC6205.txt\"\n",
      "  if __name__ == '__main__':\n",
      "/Users/qpasa/opt/anaconda3/lib/python3.7/site-packages/ipykernel_launcher.py:9: UserWarning: loadtxt: Empty input file: \"/Users/qpasa/Desktop/GC_chemistry/statIndx/Baumgardt+Harris_selection_nofehs/Lynga7.txt\"\n",
      "  if __name__ == '__main__':\n",
      "/Users/qpasa/opt/anaconda3/lib/python3.7/site-packages/ipykernel_launcher.py:9: UserWarning: loadtxt: Empty input file: \"/Users/qpasa/Desktop/GC_chemistry/statIndx/Baumgardt+Harris_selection_nofehs/Terzan9.txt\"\n",
      "  if __name__ == '__main__':\n",
      "/Users/qpasa/opt/anaconda3/lib/python3.7/site-packages/ipykernel_launcher.py:9: UserWarning: loadtxt: Empty input file: \"/Users/qpasa/Desktop/GC_chemistry/statIndx/Baumgardt+Harris_selection_nofehs/Djorg1.txt\"\n",
      "  if __name__ == '__main__':\n",
      "/Users/qpasa/opt/anaconda3/lib/python3.7/site-packages/ipykernel_launcher.py:9: UserWarning: loadtxt: Empty input file: \"/Users/qpasa/Desktop/GC_chemistry/statIndx/Baumgardt+Harris_selection_nofehs/NGC6402.txt\"\n",
      "  if __name__ == '__main__':\n",
      "/Users/qpasa/opt/anaconda3/lib/python3.7/site-packages/ipykernel_launcher.py:9: UserWarning: loadtxt: Empty input file: \"/Users/qpasa/Desktop/GC_chemistry/statIndx/Baumgardt+Harris_selection_nofehs/NGC6638.txt\"\n",
      "  if __name__ == '__main__':\n",
      "/Users/qpasa/opt/anaconda3/lib/python3.7/site-packages/ipykernel_launcher.py:9: UserWarning: loadtxt: Empty input file: \"/Users/qpasa/Desktop/GC_chemistry/statIndx/Baumgardt+Harris_selection_nofehs/NGC5053.txt\"\n",
      "  if __name__ == '__main__':\n",
      "/Users/qpasa/opt/anaconda3/lib/python3.7/site-packages/ipykernel_launcher.py:9: UserWarning: loadtxt: Empty input file: \"/Users/qpasa/Desktop/GC_chemistry/statIndx/Baumgardt+Harris_selection_nofehs/NGC6229.txt\"\n",
      "  if __name__ == '__main__':\n",
      "/Users/qpasa/opt/anaconda3/lib/python3.7/site-packages/ipykernel_launcher.py:9: UserWarning: loadtxt: Empty input file: \"/Users/qpasa/Desktop/GC_chemistry/statIndx/Baumgardt+Harris_selection_nofehs/NGC4833.txt\"\n",
      "  if __name__ == '__main__':\n",
      "/Users/qpasa/opt/anaconda3/lib/python3.7/site-packages/ipykernel_launcher.py:9: UserWarning: loadtxt: Empty input file: \"/Users/qpasa/Desktop/GC_chemistry/statIndx/Baumgardt+Harris_selection_nofehs/NGC6981.txt\"\n",
      "  if __name__ == '__main__':\n",
      "/Users/qpasa/opt/anaconda3/lib/python3.7/site-packages/ipykernel_launcher.py:9: UserWarning: loadtxt: Empty input file: \"/Users/qpasa/Desktop/GC_chemistry/statIndx/Baumgardt+Harris_selection_nofehs/NGC6388.txt\"\n",
      "  if __name__ == '__main__':\n",
      "/Users/qpasa/opt/anaconda3/lib/python3.7/site-packages/ipykernel_launcher.py:9: UserWarning: loadtxt: Empty input file: \"/Users/qpasa/Desktop/GC_chemistry/statIndx/Baumgardt+Harris_selection_nofehs/Arp2.txt\"\n",
      "  if __name__ == '__main__':\n",
      "/Users/qpasa/opt/anaconda3/lib/python3.7/site-packages/ipykernel_launcher.py:9: UserWarning: loadtxt: Empty input file: \"/Users/qpasa/Desktop/GC_chemistry/statIndx/Baumgardt+Harris_selection_nofehs/NGC2298.txt\"\n",
      "  if __name__ == '__main__':\n",
      "/Users/qpasa/opt/anaconda3/lib/python3.7/site-packages/ipykernel_launcher.py:9: UserWarning: loadtxt: Empty input file: \"/Users/qpasa/Desktop/GC_chemistry/statIndx/Baumgardt+Harris_selection_nofehs/NGC4372.txt\"\n",
      "  if __name__ == '__main__':\n",
      "/Users/qpasa/opt/anaconda3/lib/python3.7/site-packages/ipykernel_launcher.py:9: UserWarning: loadtxt: Empty input file: \"/Users/qpasa/Desktop/GC_chemistry/statIndx/Baumgardt+Harris_selection_nofehs/NGC5904.txt\"\n",
      "  if __name__ == '__main__':\n",
      "/Users/qpasa/opt/anaconda3/lib/python3.7/site-packages/ipykernel_launcher.py:9: UserWarning: loadtxt: Empty input file: \"/Users/qpasa/Desktop/GC_chemistry/statIndx/Baumgardt+Harris_selection_nofehs/NGC6558.txt\"\n",
      "  if __name__ == '__main__':\n",
      "/Users/qpasa/opt/anaconda3/lib/python3.7/site-packages/ipykernel_launcher.py:9: UserWarning: loadtxt: Empty input file: \"/Users/qpasa/Desktop/GC_chemistry/statIndx/Baumgardt+Harris_selection_nofehs/NGC5694.txt\"\n",
      "  if __name__ == '__main__':\n",
      "/Users/qpasa/opt/anaconda3/lib/python3.7/site-packages/ipykernel_launcher.py:9: UserWarning: loadtxt: Empty input file: \"/Users/qpasa/Desktop/GC_chemistry/statIndx/Baumgardt+Harris_selection_nofehs/Whiting1.txt\"\n",
      "  if __name__ == '__main__':\n",
      "/Users/qpasa/opt/anaconda3/lib/python3.7/site-packages/ipykernel_launcher.py:9: UserWarning: loadtxt: Empty input file: \"/Users/qpasa/Desktop/GC_chemistry/statIndx/Baumgardt+Harris_selection_nofehs/NGC6362.txt\"\n",
      "  if __name__ == '__main__':\n",
      "/Users/qpasa/opt/anaconda3/lib/python3.7/site-packages/ipykernel_launcher.py:9: UserWarning: loadtxt: Empty input file: \"/Users/qpasa/Desktop/GC_chemistry/statIndx/Baumgardt+Harris_selection_nofehs/NGC6637.txt\"\n",
      "  if __name__ == '__main__':\n",
      "/Users/qpasa/opt/anaconda3/lib/python3.7/site-packages/ipykernel_launcher.py:9: UserWarning: loadtxt: Empty input file: \"/Users/qpasa/Desktop/GC_chemistry/statIndx/Baumgardt+Harris_selection_nofehs/Terzan2.txt\"\n",
      "  if __name__ == '__main__':\n",
      "/Users/qpasa/opt/anaconda3/lib/python3.7/site-packages/ipykernel_launcher.py:9: UserWarning: loadtxt: Empty input file: \"/Users/qpasa/Desktop/GC_chemistry/statIndx/Baumgardt+Harris_selection_nofehs/NGC6569.txt\"\n",
      "  if __name__ == '__main__':\n",
      "/Users/qpasa/opt/anaconda3/lib/python3.7/site-packages/ipykernel_launcher.py:9: UserWarning: loadtxt: Empty input file: \"/Users/qpasa/Desktop/GC_chemistry/statIndx/Baumgardt+Harris_selection_nofehs/NGC6541.txt\"\n",
      "  if __name__ == '__main__':\n",
      "/Users/qpasa/opt/anaconda3/lib/python3.7/site-packages/ipykernel_launcher.py:9: UserWarning: loadtxt: Empty input file: \"/Users/qpasa/Desktop/GC_chemistry/statIndx/Baumgardt+Harris_selection_nofehs/UKS1.txt\"\n",
      "  if __name__ == '__main__':\n",
      "/Users/qpasa/opt/anaconda3/lib/python3.7/site-packages/ipykernel_launcher.py:9: UserWarning: loadtxt: Empty input file: \"/Users/qpasa/Desktop/GC_chemistry/statIndx/Baumgardt+Harris_selection_nofehs/Terzan3.txt\"\n",
      "  if __name__ == '__main__':\n",
      "/Users/qpasa/opt/anaconda3/lib/python3.7/site-packages/ipykernel_launcher.py:9: UserWarning: loadtxt: Empty input file: \"/Users/qpasa/Desktop/GC_chemistry/statIndx/Baumgardt+Harris_selection_nofehs/NGC6144.txt\"\n",
      "  if __name__ == '__main__':\n",
      "/Users/qpasa/opt/anaconda3/lib/python3.7/site-packages/ipykernel_launcher.py:9: UserWarning: loadtxt: Empty input file: \"/Users/qpasa/Desktop/GC_chemistry/statIndx/Baumgardt+Harris_selection_nofehs/NGC5897.txt\"\n",
      "  if __name__ == '__main__':\n",
      "/Users/qpasa/opt/anaconda3/lib/python3.7/site-packages/ipykernel_launcher.py:9: UserWarning: loadtxt: Empty input file: \"/Users/qpasa/Desktop/GC_chemistry/statIndx/Baumgardt+Harris_selection_nofehs/NGC6352.txt\"\n",
      "  if __name__ == '__main__':\n",
      "/Users/qpasa/opt/anaconda3/lib/python3.7/site-packages/ipykernel_launcher.py:9: UserWarning: loadtxt: Empty input file: \"/Users/qpasa/Desktop/GC_chemistry/statIndx/Baumgardt+Harris_selection_nofehs/IC1257.txt\"\n",
      "  if __name__ == '__main__':\n",
      "/Users/qpasa/opt/anaconda3/lib/python3.7/site-packages/ipykernel_launcher.py:9: UserWarning: loadtxt: Empty input file: \"/Users/qpasa/Desktop/GC_chemistry/statIndx/Baumgardt+Harris_selection_nofehs/NGC7099.txt\"\n",
      "  if __name__ == '__main__':\n",
      "/Users/qpasa/opt/anaconda3/lib/python3.7/site-packages/ipykernel_launcher.py:9: UserWarning: loadtxt: Empty input file: \"/Users/qpasa/Desktop/GC_chemistry/statIndx/Baumgardt+Harris_selection_nofehs/Terzan1.txt\"\n",
      "  if __name__ == '__main__':\n",
      "/Users/qpasa/opt/anaconda3/lib/python3.7/site-packages/ipykernel_launcher.py:9: UserWarning: loadtxt: Empty input file: \"/Users/qpasa/Desktop/GC_chemistry/statIndx/Baumgardt+Harris_selection_nofehs/Pyxis.txt\"\n",
      "  if __name__ == '__main__':\n",
      "/Users/qpasa/opt/anaconda3/lib/python3.7/site-packages/ipykernel_launcher.py:9: UserWarning: loadtxt: Empty input file: \"/Users/qpasa/Desktop/GC_chemistry/statIndx/Baumgardt+Harris_selection_nofehs/NGC5466.txt\"\n",
      "  if __name__ == '__main__':\n",
      "/Users/qpasa/opt/anaconda3/lib/python3.7/site-packages/ipykernel_launcher.py:9: UserWarning: loadtxt: Empty input file: \"/Users/qpasa/Desktop/GC_chemistry/statIndx/Baumgardt+Harris_selection_nofehs/NGC6341.txt\"\n",
      "  if __name__ == '__main__':\n",
      "/Users/qpasa/opt/anaconda3/lib/python3.7/site-packages/ipykernel_launcher.py:9: UserWarning: loadtxt: Empty input file: \"/Users/qpasa/Desktop/GC_chemistry/statIndx/Baumgardt+Harris_selection_nofehs/NGC6355.txt\"\n",
      "  if __name__ == '__main__':\n",
      "/Users/qpasa/opt/anaconda3/lib/python3.7/site-packages/ipykernel_launcher.py:9: UserWarning: loadtxt: Empty input file: \"/Users/qpasa/Desktop/GC_chemistry/statIndx/Baumgardt+Harris_selection_nofehs/IC4499.txt\"\n",
      "  if __name__ == '__main__':\n",
      "/Users/qpasa/opt/anaconda3/lib/python3.7/site-packages/ipykernel_launcher.py:9: UserWarning: loadtxt: Empty input file: \"/Users/qpasa/Desktop/GC_chemistry/statIndx/Baumgardt+Harris_selection_nofehs/NGC6779.txt\"\n",
      "  if __name__ == '__main__':\n",
      "/Users/qpasa/opt/anaconda3/lib/python3.7/site-packages/ipykernel_launcher.py:9: UserWarning: loadtxt: Empty input file: \"/Users/qpasa/Desktop/GC_chemistry/statIndx/Baumgardt+Harris_selection_nofehs/NGC6235.txt\"\n",
      "  if __name__ == '__main__':\n",
      "/Users/qpasa/opt/anaconda3/lib/python3.7/site-packages/ipykernel_launcher.py:9: UserWarning: loadtxt: Empty input file: \"/Users/qpasa/Desktop/GC_chemistry/statIndx/Baumgardt+Harris_selection_nofehs/NGC5927.txt\"\n",
      "  if __name__ == '__main__':\n",
      "/Users/qpasa/opt/anaconda3/lib/python3.7/site-packages/ipykernel_launcher.py:9: UserWarning: loadtxt: Empty input file: \"/Users/qpasa/Desktop/GC_chemistry/statIndx/Baumgardt+Harris_selection_nofehs/NGC6584.txt\"\n",
      "  if __name__ == '__main__':\n",
      "/Users/qpasa/opt/anaconda3/lib/python3.7/site-packages/ipykernel_launcher.py:9: UserWarning: loadtxt: Empty input file: \"/Users/qpasa/Desktop/GC_chemistry/statIndx/Baumgardt+Harris_selection_nofehs/NGC4147.txt\"\n",
      "  if __name__ == '__main__':\n",
      "/Users/qpasa/opt/anaconda3/lib/python3.7/site-packages/ipykernel_launcher.py:9: UserWarning: loadtxt: Empty input file: \"/Users/qpasa/Desktop/GC_chemistry/statIndx/Baumgardt+Harris_selection_nofehs/NGC6624.txt\"\n",
      "  if __name__ == '__main__':\n",
      "/Users/qpasa/opt/anaconda3/lib/python3.7/site-packages/ipykernel_launcher.py:9: UserWarning: loadtxt: Empty input file: \"/Users/qpasa/Desktop/GC_chemistry/statIndx/Baumgardt+Harris_selection_nofehs/NGC6426.txt\"\n",
      "  if __name__ == '__main__':\n",
      "/Users/qpasa/opt/anaconda3/lib/python3.7/site-packages/ipykernel_launcher.py:9: UserWarning: loadtxt: Empty input file: \"/Users/qpasa/Desktop/GC_chemistry/statIndx/Baumgardt+Harris_selection_nofehs/NGC6356.txt\"\n",
      "  if __name__ == '__main__':\n",
      "/Users/qpasa/opt/anaconda3/lib/python3.7/site-packages/ipykernel_launcher.py:9: UserWarning: loadtxt: Empty input file: \"/Users/qpasa/Desktop/GC_chemistry/statIndx/Baumgardt+Harris_selection_nofehs/NGC6342.txt\"\n",
      "  if __name__ == '__main__':\n",
      "/Users/qpasa/opt/anaconda3/lib/python3.7/site-packages/ipykernel_launcher.py:9: UserWarning: loadtxt: Empty input file: \"/Users/qpasa/Desktop/GC_chemistry/statIndx/Baumgardt+Harris_selection_nofehs/NGC6626.txt\"\n",
      "  if __name__ == '__main__':\n",
      "/Users/qpasa/opt/anaconda3/lib/python3.7/site-packages/ipykernel_launcher.py:9: UserWarning: loadtxt: Empty input file: \"/Users/qpasa/Desktop/GC_chemistry/statIndx/Baumgardt+Harris_selection_nofehs/Terzan7.txt\"\n",
      "  if __name__ == '__main__':\n",
      "/Users/qpasa/opt/anaconda3/lib/python3.7/site-packages/ipykernel_launcher.py:9: UserWarning: loadtxt: Empty input file: \"/Users/qpasa/Desktop/GC_chemistry/statIndx/Baumgardt+Harris_selection_nofehs/Ton2.txt\"\n",
      "  if __name__ == '__main__':\n",
      "/Users/qpasa/opt/anaconda3/lib/python3.7/site-packages/ipykernel_launcher.py:9: UserWarning: loadtxt: Empty input file: \"/Users/qpasa/Desktop/GC_chemistry/statIndx/Baumgardt+Harris_selection_nofehs/Eridanus.txt\"\n",
      "  if __name__ == '__main__':\n",
      "/Users/qpasa/opt/anaconda3/lib/python3.7/site-packages/ipykernel_launcher.py:9: UserWarning: loadtxt: Empty input file: \"/Users/qpasa/Desktop/GC_chemistry/statIndx/Baumgardt+Harris_selection_nofehs/NGC5272.txt\"\n",
      "  if __name__ == '__main__':\n",
      "/Users/qpasa/opt/anaconda3/lib/python3.7/site-packages/ipykernel_launcher.py:9: UserWarning: loadtxt: Empty input file: \"/Users/qpasa/Desktop/GC_chemistry/statIndx/Baumgardt+Harris_selection_nofehs/Terzan6.txt\"\n",
      "  if __name__ == '__main__':\n",
      "/Users/qpasa/opt/anaconda3/lib/python3.7/site-packages/ipykernel_launcher.py:9: UserWarning: loadtxt: Empty input file: \"/Users/qpasa/Desktop/GC_chemistry/statIndx/Baumgardt+Harris_selection_nofehs/NGC7006.txt\"\n",
      "  if __name__ == '__main__':\n",
      "/Users/qpasa/opt/anaconda3/lib/python3.7/site-packages/ipykernel_launcher.py:9: UserWarning: loadtxt: Empty input file: \"/Users/qpasa/Desktop/GC_chemistry/statIndx/Baumgardt+Harris_selection_nofehs/E3.txt\"\n",
      "  if __name__ == '__main__':\n",
      "/Users/qpasa/opt/anaconda3/lib/python3.7/site-packages/ipykernel_launcher.py:9: UserWarning: loadtxt: Empty input file: \"/Users/qpasa/Desktop/GC_chemistry/statIndx/Baumgardt+Harris_selection_nofehs/NGC6287.txt\"\n",
      "  if __name__ == '__main__':\n",
      "/Users/qpasa/opt/anaconda3/lib/python3.7/site-packages/ipykernel_launcher.py:9: UserWarning: loadtxt: Empty input file: \"/Users/qpasa/Desktop/GC_chemistry/statIndx/Baumgardt+Harris_selection_nofehs/NGC6293.txt\"\n",
      "  if __name__ == '__main__':\n",
      "/Users/qpasa/opt/anaconda3/lib/python3.7/site-packages/ipykernel_launcher.py:9: UserWarning: loadtxt: Empty input file: \"/Users/qpasa/Desktop/GC_chemistry/statIndx/Baumgardt+Harris_selection_nofehs/Pal11.txt\"\n",
      "  if __name__ == '__main__':\n",
      "/Users/qpasa/opt/anaconda3/lib/python3.7/site-packages/ipykernel_launcher.py:9: UserWarning: loadtxt: Empty input file: \"/Users/qpasa/Desktop/GC_chemistry/statIndx/Baumgardt+Harris_selection_nofehs/NGC6325.txt\"\n",
      "  if __name__ == '__main__':\n",
      "/Users/qpasa/opt/anaconda3/lib/python3.7/site-packages/ipykernel_launcher.py:9: UserWarning: loadtxt: Empty input file: \"/Users/qpasa/Desktop/GC_chemistry/statIndx/Baumgardt+Harris_selection_nofehs/NGC6441.txt\"\n",
      "  if __name__ == '__main__':\n",
      "/Users/qpasa/opt/anaconda3/lib/python3.7/site-packages/ipykernel_launcher.py:9: UserWarning: loadtxt: Empty input file: \"/Users/qpasa/Desktop/GC_chemistry/statIndx/Baumgardt+Harris_selection_nofehs/NGC6333.txt\"\n",
      "  if __name__ == '__main__':\n",
      "/Users/qpasa/opt/anaconda3/lib/python3.7/site-packages/ipykernel_launcher.py:9: UserWarning: loadtxt: Empty input file: \"/Users/qpasa/Desktop/GC_chemistry/statIndx/Baumgardt+Harris_selection_nofehs/NGC6496.txt\"\n",
      "  if __name__ == '__main__':\n",
      "/Users/qpasa/opt/anaconda3/lib/python3.7/site-packages/ipykernel_launcher.py:9: UserWarning: loadtxt: Empty input file: \"/Users/qpasa/Desktop/GC_chemistry/statIndx/Baumgardt+Harris_selection_nofehs/NGC6864.txt\"\n",
      "  if __name__ == '__main__':\n",
      "/Users/qpasa/opt/anaconda3/lib/python3.7/site-packages/ipykernel_launcher.py:9: UserWarning: loadtxt: Empty input file: \"/Users/qpasa/Desktop/GC_chemistry/statIndx/Baumgardt+Harris_selection_nofehs/Pal4.txt\"\n",
      "  if __name__ == '__main__':\n",
      "/Users/qpasa/opt/anaconda3/lib/python3.7/site-packages/ipykernel_launcher.py:9: UserWarning: loadtxt: Empty input file: \"/Users/qpasa/Desktop/GC_chemistry/statIndx/Baumgardt+Harris_selection_nofehs/NGC6535.txt\"\n",
      "  if __name__ == '__main__':\n",
      "/Users/qpasa/opt/anaconda3/lib/python3.7/site-packages/ipykernel_launcher.py:9: UserWarning: loadtxt: Empty input file: \"/Users/qpasa/Desktop/GC_chemistry/statIndx/Baumgardt+Harris_selection_nofehs/NGC6284.txt\"\n",
      "  if __name__ == '__main__':\n",
      "/Users/qpasa/opt/anaconda3/lib/python3.7/site-packages/ipykernel_launcher.py:9: UserWarning: loadtxt: Empty input file: \"/Users/qpasa/Desktop/GC_chemistry/statIndx/Baumgardt+Harris_selection_nofehs/Pal5.txt\"\n",
      "  if __name__ == '__main__':\n",
      "/Users/qpasa/opt/anaconda3/lib/python3.7/site-packages/ipykernel_launcher.py:9: UserWarning: loadtxt: Empty input file: \"/Users/qpasa/Desktop/GC_chemistry/statIndx/Baumgardt+Harris_selection_nofehs/NGC6093.txt\"\n",
      "  if __name__ == '__main__':\n",
      "/Users/qpasa/opt/anaconda3/lib/python3.7/site-packages/ipykernel_launcher.py:9: UserWarning: loadtxt: Empty input file: \"/Users/qpasa/Desktop/GC_chemistry/statIndx/Baumgardt+Harris_selection_nofehs/AM4.txt\"\n",
      "  if __name__ == '__main__':\n",
      "/Users/qpasa/opt/anaconda3/lib/python3.7/site-packages/ipykernel_launcher.py:9: UserWarning: loadtxt: Empty input file: \"/Users/qpasa/Desktop/GC_chemistry/statIndx/Baumgardt+Harris_selection_nofehs/NGC6681.txt\"\n",
      "  if __name__ == '__main__':\n",
      "/Users/qpasa/opt/anaconda3/lib/python3.7/site-packages/ipykernel_launcher.py:9: UserWarning: loadtxt: Empty input file: \"/Users/qpasa/Desktop/GC_chemistry/statIndx/Baumgardt+Harris_selection_nofehs/NGC6440.txt\"\n",
      "  if __name__ == '__main__':\n",
      "/Users/qpasa/opt/anaconda3/lib/python3.7/site-packages/ipykernel_launcher.py:9: UserWarning: loadtxt: Empty input file: \"/Users/qpasa/Desktop/GC_chemistry/statIndx/Baumgardt+Harris_selection_nofehs/NGC5824.txt\"\n",
      "  if __name__ == '__main__':\n",
      "/Users/qpasa/opt/anaconda3/lib/python3.7/site-packages/ipykernel_launcher.py:9: UserWarning: loadtxt: Empty input file: \"/Users/qpasa/Desktop/GC_chemistry/statIndx/Baumgardt+Harris_selection_nofehs/NGC6652.txt\"\n",
      "  if __name__ == '__main__':\n",
      "/Users/qpasa/opt/anaconda3/lib/python3.7/site-packages/ipykernel_launcher.py:9: UserWarning: loadtxt: Empty input file: \"/Users/qpasa/Desktop/GC_chemistry/statIndx/Baumgardt+Harris_selection_nofehs/NGC6256.txt\"\n",
      "  if __name__ == '__main__':\n",
      "/Users/qpasa/opt/anaconda3/lib/python3.7/site-packages/ipykernel_launcher.py:9: UserWarning: loadtxt: Empty input file: \"/Users/qpasa/Desktop/GC_chemistry/statIndx/Baumgardt+Harris_selection_nofehs/Pal1.txt\"\n",
      "  if __name__ == '__main__':\n",
      "/Users/qpasa/opt/anaconda3/lib/python3.7/site-packages/ipykernel_launcher.py:9: UserWarning: loadtxt: Empty input file: \"/Users/qpasa/Desktop/GC_chemistry/statIndx/Baumgardt+Harris_selection_nofehs/NGC5986.txt\"\n",
      "  if __name__ == '__main__':\n",
      "/Users/qpasa/opt/anaconda3/lib/python3.7/site-packages/ipykernel_launcher.py:9: UserWarning: loadtxt: Empty input file: \"/Users/qpasa/Desktop/GC_chemistry/statIndx/Baumgardt+Harris_selection_nofehs/AM1.txt\"\n",
      "  if __name__ == '__main__':\n",
      "/Users/qpasa/opt/anaconda3/lib/python3.7/site-packages/ipykernel_launcher.py:9: UserWarning: loadtxt: Empty input file: \"/Users/qpasa/Desktop/GC_chemistry/statIndx/Baumgardt+Harris_selection_nofehs/Pal15.txt\"\n",
      "  if __name__ == '__main__':\n",
      "/Users/qpasa/opt/anaconda3/lib/python3.7/site-packages/ipykernel_launcher.py:9: UserWarning: loadtxt: Empty input file: \"/Users/qpasa/Desktop/GC_chemistry/statIndx/Baumgardt+Harris_selection_nofehs/Pal2.txt\"\n",
      "  if __name__ == '__main__':\n",
      "/Users/qpasa/opt/anaconda3/lib/python3.7/site-packages/ipykernel_launcher.py:9: UserWarning: loadtxt: Empty input file: \"/Users/qpasa/Desktop/GC_chemistry/statIndx/Baumgardt+Harris_selection_nofehs/NGC5946.txt\"\n",
      "  if __name__ == '__main__':\n",
      "/Users/qpasa/opt/anaconda3/lib/python3.7/site-packages/ipykernel_launcher.py:9: UserWarning: loadtxt: Empty input file: \"/Users/qpasa/Desktop/GC_chemistry/statIndx/Baumgardt+Harris_selection_nofehs/NGC1261.txt\"\n",
      "  if __name__ == '__main__':\n",
      "/Users/qpasa/opt/anaconda3/lib/python3.7/site-packages/ipykernel_launcher.py:9: UserWarning: loadtxt: Empty input file: \"/Users/qpasa/Desktop/GC_chemistry/statIndx/Baumgardt+Harris_selection_nofehs/Pal3.txt\"\n",
      "  if __name__ == '__main__':\n",
      "/Users/qpasa/opt/anaconda3/lib/python3.7/site-packages/ipykernel_launcher.py:9: UserWarning: loadtxt: Empty input file: \"/Users/qpasa/Desktop/GC_chemistry/statIndx/Baumgardt+Harris_selection_nofehs/Pal14.txt\"\n",
      "  if __name__ == '__main__':\n"
     ]
    }
   ],
   "source": [
    "# save the files for each GC out\n",
    "import glob\n",
    "import sys\n",
    "files = glob.glob(\"/Users/qpasa/Desktop/GC_chemistry/statIndx/Baumgardt+Harris_selection_nofehs/*.txt\")\n",
    "# print(np.shape(files))\n",
    "\n",
    "complete=[]\n",
    "for i in files:\n",
    "    file = np.array(np.loadtxt(i,dtype='str'))\n",
    "    complete.extend(file)\n",
    "    \n",
    "    \n",
    "    "
   ]
  },
  {
   "cell_type": "code",
   "execution_count": 38,
   "metadata": {},
   "outputs": [
    {
     "name": "stdout",
     "output_type": "stream",
     "text": [
      "(1782,)\n"
     ]
    }
   ],
   "source": [
    "# save the full sample together\n",
    "np.savetxt('/Users/qpasa/Desktop/GC_chemistry/statIndx/Baumgardt+Harris_selection_nofehs/complete.txt',complete,fmt='%s')\n",
    "\n",
    "print(np.shape(complete))\n"
   ]
  },
  {
   "cell_type": "code",
   "execution_count": 615,
   "metadata": {},
   "outputs": [
    {
     "name": "stdout",
     "output_type": "stream",
     "text": [
      "dict_keys(['Rup106', 'NGC6715', 'NGC6517', 'NGC1904', 'NGC6528', 'NGC2808', 'NGC5024', 'NGC6539', 'NGC6316', 'Liller1', 'NGC5634', 'NGC7078', 'NGC6171', 'NGC6205', 'NGC6760', 'NGC5053', 'NGC6229', 'NGC6388', 'NGC5904', 'NGC6809', 'Terzan2', 'NGC6838', 'UKS1', 'NGC6540', 'NGC4590', 'Terzan1', 'NGC6218', 'NGC5466', 'BH261', 'NGC3201', 'NGC6341', 'Terzan4', 'NGC6553', 'NGC5927', 'NGC362', 'NGC4147', 'Terzan5', 'NGC7089', 'NGC6397', 'NGC5139', 'NGC6752', 'NGC6544', 'NGC5272', 'NGC6380', 'Pal10', 'NGC6522', 'NGC104', 'Pal6', 'NGC6441', 'NGC1851', 'NGC6723', 'Pal5', 'NGC6656', 'NGC6121', 'NGC288', 'HP1', 'NGC6254'])\n"
     ]
    }
   ],
   "source": [
    "from collections import Counter\n",
    "\n",
    "print((Counter(name).keys()))\n",
    "\n",
    "# there's initially 93 GCs\n"
   ]
  },
  {
   "cell_type": "code",
   "execution_count": 5,
   "metadata": {},
   "outputs": [
    {
     "name": "stdout",
     "output_type": "stream",
     "text": [
      "(4067,)\n",
      "(3658,)\n"
     ]
    }
   ],
   "source": [
    "apogee2 = fits.open('/Users/qpasa/Desktop/GC_ids/Baumgardt+Harris_selection/Remake_nopms_2sigma/merged.fits')\n",
    "data2 = apogee2[1].data\n",
    "print(np.shape(data2))\n",
    "fehs = data2.field('FE_H')\n",
    "name = data2.field('gc_name')\n",
    "\n",
    "data2 = data2[fehs>-10]\n",
    "\n",
    "print(np.shape(data2))\n"
   ]
  },
  {
   "cell_type": "code",
   "execution_count": 6,
   "metadata": {},
   "outputs": [
    {
     "name": "stdout",
     "output_type": "stream",
     "text": [
      "(57,)\n"
     ]
    }
   ],
   "source": [
    "names = ['Rup106', 'NGC6715', 'NGC6517', 'NGC1904', 'NGC6528', 'NGC2808', 'NGC5024', 'NGC6539', 'NGC6316', 'Liller1',\n",
    "         'NGC5634', 'NGC7078', 'NGC6171', 'NGC6205', 'NGC6760', 'NGC5053', 'NGC6229', 'NGC6388', 'NGC5904', 'NGC6809',\n",
    "         'Terzan2', 'NGC6838', 'UKS1', 'NGC6540', 'NGC4590', 'Terzan1', 'NGC6218', 'NGC5466', 'BH261', 'NGC3201',\n",
    "         'NGC6341', 'Terzan4', 'NGC6553', 'NGC5927', 'NGC362', 'NGC4147', 'Terzan5', 'NGC7089', 'NGC6397', 'NGC5139',\n",
    "         'NGC6752', 'NGC6544', 'NGC5272', 'NGC6380', 'Pal10', 'NGC6522', 'NGC104', 'Pal6', 'NGC6441', 'NGC1851',\n",
    "         'NGC6723', 'Pal5', 'NGC6656', 'NGC6121', 'NGC288', 'HP1', 'NGC6254']\n",
    "\n",
    "print(np.shape(names))\n"
   ]
  },
  {
   "cell_type": "code",
   "execution_count": 104,
   "metadata": {
    "scrolled": false
   },
   "outputs": [
    {
     "name": "stdout",
     "output_type": "stream",
     "text": [
      "(20,)\n",
      "(3657,)\n"
     ]
    },
    {
     "data": {
      "image/png": "[encoded data removed]",
      "text/plain": [
       "<Figure size 1080x1296 with 20 Axes>"
      ]
     },
     "metadata": {
      "needs_background": "light"
     },
     "output_type": "display_data"
    }
   ],
   "source": [
    "import matplotlib.gridspec as grid\n",
    "# load in the APOGEE catalogue\n",
    "apogee2 = fits.open('/Users/qpasa/Desktop/GC_ids/Baumgardt+Harris_selection/Remake_nopms_2sigma/merged.fits')\n",
    "data2 = apogee2[1].data\n",
    "\n",
    "fehs = data2.field('FE_H')\n",
    "sifes = data2.field('SI_FE')\n",
    "\n",
    "mask = (sifes>-10.)&(fehs>-10.)\n",
    "\n",
    "data2 = data2[mask]\n",
    "\n",
    "# # load in the Harris catalog metallicities\n",
    "# apogee3 = fits.open('/Users/qpasa/Desktop/GC_ids/data/harris+baumgardt.fits')\n",
    "# data3 = apogee3[1].data\n",
    "\n",
    "# fehs_H = data3.field('[Fe/H]')\n",
    "# names_H = data3.field('Name')\n",
    "\n",
    "# names= ['NGC104','NGC288','NGC362','Whiting1','NGC1261','Pal1','AM1'\n",
    "# ,'Eridanus','Pal2','NGC1851','NGC1904','NGC2298','NGC2419','Ko2'\n",
    "# ,'Pyxis','NGC2808','E3','Pal3','NGC3201','Pal4','Ko1','NGC4147'\n",
    "# ,'NGC4372','Rup106','NGC4590','NGC4833','NGC5024','NGC5053'\n",
    "# ,'NGC5139','NGC5272','NGC5286','AM4','NGC5466','NGC5634','NGC5694'\n",
    "# ,'IC4499','NGC5824','Pal5','NGC5897','NGC5904','NGC5927','NGC5946'\n",
    "# ,'BH176','NGC5986','Lynga7','Pal14','NGC6093','NGC6121','NGC6101'\n",
    "# ,'NGC6144','NGC6139','Terzan3','NGC6171','1636-283','NGC6205'\n",
    "# ,'NGC6229','NGC6218','FSR1735','NGC6235','NGC6254','NGC6256'\n",
    "# ,'Pal15','NGC6266','NGC6273','NGC6284','NGC6287','NGC6293'\n",
    "# ,'NGC6304','NGC6316','NGC6341','NGC6325','NGC6333','NGC6342'\n",
    "# ,'NGC6356','NGC6355','','NGC6352','IC1257','Terzan2','NGC6366'\n",
    "# ,'Terzan4','HP1','NGC6362','Liller1','NGC6380','Terzan1','Ton2'\n",
    "# ,'NGC6388','NGC6402','NGC6401','NGC6397','Pal6','NGC6426','Djorg1'\n",
    "# ,'Terzan5','NGC6440','NGC6441','Terzan6','NGC6453','UKS1','NGC6496'\n",
    "# ,'Terzan9','Djorg2','NGC6517','Terzan10','NGC6522','NGC6535'\n",
    "# ,'NGC6528','NGC6539','NGC6540','NGC6544','NGC6541','2MS-GC01'\n",
    "# ,'ESO-SC06','NGC6553','2MS-GC02','NGC6558','IC1276','Terzan12'\n",
    "# ,'NGC6569','BH261','GLIMPSE02','NGC6584','NGC6624','NGC6626'\n",
    "# ,'NGC6638','NGC6637','NGC6642','NGC6652','NGC6656','Pal8','NGC6681'\n",
    "# ,'GLIMPSE01','NGC6712','NGC6715','NGC6717','NGC6723','NGC6749'\n",
    "# ,'NGC6752','NGC6760','NGC6779','Terzan7','Pal10','Arp2','NGC6809'\n",
    "# ,'Terzan8','Pal11','NGC6838','NGC6864','NGC6934','NGC6981'\n",
    "# ,'NGC7006','NGC7078','NGC7089','NGC7099','Pal12','Pal13','NGC7492','Terzan9']\n",
    "# print(np.shape(names))\n",
    "\n",
    "# 57 GCs before removing low number members (below 3 members)\n",
    "# names = ['Rup106', 'NGC6715', 'NGC6517', 'NGC1904', 'NGC6528', 'NGC2808', 'NGC5024', 'NGC6539', 'NGC6316', 'Liller1',\n",
    "#          'NGC5634', 'NGC7078', 'NGC6171', 'NGC6205', 'NGC6760', 'NGC5053', 'NGC6229', 'NGC6388', 'NGC5904', 'NGC6809',\n",
    "#          'Terzan2', 'NGC6838', 'UKS1', 'NGC6540', 'NGC4590', 'Terzan1', 'NGC6218', 'NGC5466', 'BH261', 'NGC3201',\n",
    "#          'NGC6341', 'Terzan4', 'NGC6553', 'NGC5927', 'NGC362', 'NGC4147', 'Terzan5', 'NGC7089', 'NGC6397', 'NGC5139',\n",
    "#          'NGC6752', 'NGC6544', 'NGC5272', 'NGC6380', 'Pal10', 'NGC6522', 'NGC104', 'Pal6', 'NGC6441', 'NGC1851',\n",
    "#          'NGC6723', 'Pal5', 'NGC6656', 'NGC6121', 'NGC288', 'HP1', 'NGC6254']\n",
    "\n",
    "names = [ 'NGC104','NGC288','NGC362','NGC1851','NGC1904','NGC2808','NGC3201','NGC4590','NGC5024','NGC5053',\\\n",
    "        'NGC5139','NGC5272','NGC5466','NGC5904','NGC6121','NGC6171','NGC6205','NGC6218','NGC6229','NGC6254']\n",
    "\n",
    "# names = [ 'NGC6341','NGC6380','NGC6388','NGC6397','NGC6441','NGC6522','NGC6539','NGC6540','NGC6544','NGC6553',\\\n",
    "#         'NGC6656','NGC6715','NGC6723','NGC6752','NGC6760','NGC6809','NGC6838','NGC7078','NGC7089','Terzan2']\n",
    "         \n",
    "# names = [ 'Terzan5','Pal5','Pal6','Pal10','Liller1','HP1']\n",
    "# names = ['NGC6121']\n",
    "# check sizes of arrays\n",
    "print(np.shape(names))\n",
    "print(np.shape(data2))\n",
    "\n",
    "# loop through the data and refine our GC sample in APOGEE using the MDF clipping method\n",
    "fig = plt.figure(constrained_layout=True,figsize=(15,18))\n",
    "gs = grid.GridSpec(5,4)\n",
    "# gs = grid.GridSpec(2,4)\n",
    "p = 0\n",
    "for i in names:\n",
    "    if i in data2['gc_name']:\n",
    "        fehs = data2['FE_H']\n",
    "        vlos = data2['VHELIO_AVG']\n",
    "        sifes = data2['SI_FE']\n",
    "        gc_name = data2['gc_name']\n",
    "        fehs = fehs[np.where(data2['gc_name']==i)]\n",
    "        vlos = vlos[np.where(data2['gc_name']==i)]\n",
    "        sifes = sifes[np.where(data2['gc_name']==i)]\n",
    "        gc_name = gc_name[np.where(data2['gc_name']==i)]\n",
    "#         print(np.shape(fehs))\n",
    "        mean = np.mean(fehs)\n",
    "        sigma = np.std(fehs)\n",
    "#         print('old sigma and mean')\n",
    "#         print(mean,sigma)\n",
    "        fehs2 = fehs[np.fabs(mean-fehs)<(1.*sigma)]\n",
    "        vlos2 = vlos[np.fabs(mean-fehs)<(1.*sigma)]\n",
    "        sifes2 = sifes[np.fabs(mean-fehs)<(1.*sigma)]\n",
    "        names2 = gc_name[np.fabs(mean-fehs)<(1.*sigma)]\n",
    "#         print(np.shape(fehs2))\n",
    "        mean2 = np.mean(fehs2)\n",
    "        sigma2 = np.std(fehs2)\n",
    "#         print('new sigma and mean')\n",
    "#         print(mean2,sigma2)\n",
    "\n",
    "        fehs3 = fehs2[np.fabs(mean2-fehs2)<=(2.*sigma2)]\n",
    "        vlos3 = vlos2[np.fabs(mean2-fehs2)<(1.*sigma2)]\n",
    "        sifes3 = sifes2[np.fabs(mean2-fehs2)<(1.*sigma2)]\n",
    "        names3 = names2[np.fabs(mean2-fehs2)<(1.*sigma2)]\n",
    "#         print(gc_name[0])\n",
    "#         print(np.shape(fehs3))\n",
    "        mean3 = np.mean(fehs3)\n",
    "        sigma3 = np.std(fehs3)\n",
    "        sigma_rvs3 = np.std(vlos3)\n",
    "#         print(sigma3)\n",
    "#         print(sigma_rvs3)\n",
    "#         print('new sigma and mean')\n",
    "#         print(mean3,sigma3)\n",
    "#         if len(names3)>0.:\n",
    "#             print(names3[0])\n",
    "#             print(np.mean(fehs3))\n",
    "#             print(np.mean(vlos3))\n",
    "#             print(np.mean(sifes3))\n",
    "#         else:\n",
    "#             pass\n",
    "#         plt.title(gc_name [0],fontsize=16)\n",
    "#         plt.hist(fehs,20,range=(-2.5,0.5),histtype='step',color='b',label='Initial Sample')\n",
    "#         plt.hist(fehs2,20,range=(-2.5,0.5),histtype='step',color='orange',label='1stclip')\n",
    "#         plt.hist(fehs3,20,range=(-2.5,0.5),histtype='step',color='red',label='2ndclip')\n",
    "#         plt.title(gc_name[0])\n",
    "#         plt.hist(vlos,8,histtype='step',color='b',label='Initial Sample')\n",
    "#         plt.hist(vlos2,8,histtype='step',color='orange',label='1stclip')\n",
    "#         plt.hist(vlos3,8,histtype='step',color='red',label='2ndclip')\n",
    "#         plt.legend(loc='upper left')\n",
    "#         plt.xlim(-1.6,-0.6)\n",
    "#         plt.xlabel('[Fe/H]]',fontsize=14)\n",
    "#         plt.legend(loc='upper left')\n",
    "#         plt.ylabel('N',fontsize=14)\n",
    "#         plt.show()\n",
    "        ax = fig.add_subplot(gs[p])\n",
    "#         ax.hist(fehs,50,range=(-2.5,0.5),histtype='step',color='b',label='Initial Sample')\n",
    "#         ax.hist(fehs2,50,range=(-2.5,0.5),histtype='step',color='orange',label='1stclip')\n",
    "#         ax.hist(fehs3,50,range=(-2.5,0.5),histtype='step',color='red',label='2ndclip')        \n",
    "#         ax.set_xlabel('[Fe/H]]')\n",
    "#         ax.set_ylabel('N')\n",
    "#         ax.set_title(gc_name[0])\n",
    "#         ax.set_xlim(np.min(fehs)-0.2,np.max(fehs)+0.2)\n",
    "        p+=1\n",
    "#         ax = fig.add_subplot(gs[p])\n",
    "        ax.hist(vlos,6,histtype='step',color='b',label='Initial Sample')\n",
    "        ax.hist(vlos2,6,histtype='step',color='orange',label='1stclip')\n",
    "        ax.hist(vlos3,6,histtype='step',color='red',label='2ndclip')        \n",
    "# #         ax.set_xlabel('[Fe/H]]')\n",
    "# #         ax.set_ylabel('signal')\n",
    "        plt.title(gc_name[0])\n",
    "        plt.xlim(np.min(vlos)-5,np.max(vlos)+5)\n",
    "#         p+=1\n",
    "#         gs.update(wspace=0.2,hspace=0.5)\n",
    "axis = fig.axes\n",
    "# # print(axis)\n",
    "# axis[0].set(ylabel='N')\n",
    "# axis[4].set(ylabel='N')\n",
    "# axis[8].set(ylabel='N')\n",
    "# axis[12].set(ylabel='N')\n",
    "\n",
    "# axis[16].set(xlabel='[Fe/H]',ylabel='N')\n",
    "# axis[17].set(xlabel='[Fe/H]')\n",
    "# axis[18].set(xlabel='[Fe/H]')\n",
    "# axis[19].set(xlabel='[Fe/H]')\n",
    "\n",
    "# gs.update(wspace=0.2,hspace=0.5)\n",
    "# # axis = fig.axes\n",
    "# # # print(axis)\n",
    "# axis[0].set(ylabel='N')\n",
    "# axis[5].set(ylabel='N')\n",
    "# # axis[8].set(ylabel='N')\n",
    "# # axis[12].set(ylabel='N')\n",
    "\n",
    "# # axis[16].set(xlabel='rv',ylabel='N')\n",
    "# axis[1].set(xlabel='[Fe/H]')\n",
    "# axis[2].set(xlabel='[Fe/H]')\n",
    "# axis[3].set(xlabel='[Fe/H]')\n",
    "# axis[4].set(xlabel='[Fe/H]')\n",
    "# axis[5].set(xlabel='[Fe/H]')\n",
    "\n",
    "\n",
    "\n",
    "axis[0].set(ylabel='N')\n",
    "axis[4].set(ylabel='N')\n",
    "axis[8].set(ylabel='N')\n",
    "axis[12].set(ylabel='N')\n",
    "axis[16].set(ylabel='N')\n",
    "axis[0].tick_params(labelsize=10)\n",
    "axis[4].tick_params(labelsize=10)\n",
    "axis[5].tick_params(labelsize=10)\n",
    "axis[1].tick_params(labelsize=10)\n",
    "axis[2].tick_params(labelsize=10)\n",
    "axis[3].tick_params(labelsize=10)\n",
    "axis[5].tick_params(labelsize=10)\n",
    "axis[6].tick_params(labelsize=10)\n",
    "axis[7].tick_params(labelsize=10)\n",
    "axis[9].tick_params(labelsize=10)\n",
    "axis[10].tick_params(labelsize=10)\n",
    "axis[11].tick_params(labelsize=10)\n",
    "\n",
    "\n",
    "axis[16].set(xlabel='rv')\n",
    "axis[17].set(xlabel='rv')\n",
    "axis[18].set(xlabel='rv')\n",
    "axis[19].set(xlabel='rv')\n",
    "axis[13].tick_params(labelsize=10)\n",
    "axis[14].tick_params(labelsize=10)\n",
    "axis[15].tick_params(labelsize=10)\n",
    "axis[12].tick_params(labelsize=10)\n",
    "axis[16].tick_params(labelsize=10)\n",
    "axis[17].tick_params(labelsize=10)\n",
    "axis[18].tick_params(labelsize=10)\n",
    "axis[19].tick_params(labelsize=10)\n",
    "\n",
    "# # axis[0].set(ylabel='N')\n",
    "# # axis[4].set(ylabel='N')\n",
    "# # axis[8].set(ylabel='N')\n",
    "# # axis[12].set(ylabel='N')\n",
    "\n",
    "# # axis[13].set(xlabel='[Fe/H]',ylabel='N')\n",
    "# # axis[14].set(xlabel='[Fe/H]')\n",
    "# # axis[15].set(xlabel='[Fe/H]')\n",
    "# # axis[12].set(xlabel='[Fe/H]')\n",
    "\n",
    "gs.update(wspace=0.3,hspace=0.3)\n",
    "# plt.savefig('/../plots/radvels_batch1', format='pdf', dpi=400, bbox_inches='tight')\n",
    "\n",
    "\n",
    "\n",
    "\n",
    "\n",
    "\n"
   ]
  },
  {
   "cell_type": "code",
   "execution_count": 26,
   "metadata": {},
   "outputs": [],
   "source": [
    "apogee2 = fits.open('/Users/qpasa/Desktop/GC_ids/data/GC_final_Baumgardt_selection_nopms')\n",
    "data2 = apogee2[1].data\n",
    "\n"
   ]
  },
  {
   "cell_type": "code",
   "execution_count": 31,
   "metadata": {},
   "outputs": [
    {
     "name": "stdout",
     "output_type": "stream",
     "text": [
      "NGC6715\n",
      "-0.10244373 0.12204653\n",
      "Terzan5\n",
      "0.07763625 0.112892136\n",
      "NGC5139\n",
      "0.27067345 0.08753364\n",
      "NGC5053\n",
      "0.38360196 0.096024245\n",
      "Terzan2\n",
      "0.2608395 0.015363813\n",
      "NGC7089\n",
      "0.18932126 0.06684162\n",
      "Pal5\n",
      "0.109905325 0.038576193\n",
      "NGC6723\n",
      "0.24791911 0.032349326\n"
     ]
    }
   ],
   "source": [
    "# store the ones not needing a clip\n",
    "names2 = ['NGC6715','Terzan5','NGC5139','NGC5053','Terzan2','NGC7089','Pal5','NGC6723']\n",
    "        \n",
    "for i in names2:\n",
    "    if i in data2['gc_name']:\n",
    "        fehs = data2['FE_H']\n",
    "        sifes = data2['SI_FE']\n",
    "        gc_name = data2['gc_name']\n",
    "        vlos = data2['VHELIO_AVG']\n",
    "        apo_ids = data2['APOGEE_ID']\n",
    "        fehs = fehs[np.where(data2['gc_name']==i)]\n",
    "        vlos = vlos[np.where(data2['gc_name']==i)]\n",
    "        sifes = sifes[np.where(data2['gc_name']==i)]\n",
    "        gc_name = gc_name[np.where(data2['gc_name']==i)]\n",
    "        apo_ids = apo_ids[np.where(data2['gc_name']==i)]\n",
    "        print(gc_name[0])\n",
    "#         print(np.mean(fehs),np.std(fehs))\n",
    "#         print(np.mean(vlos),np.std(vlos))\n",
    "        print(np.mean(sifes),np.std(sifes))\n",
    "#         rec = np.recarray(len(apo_ids), dtype=[('apogee_id',object),\n",
    "#                                             ('name', object)])\n",
    "#         rec['apogee_id'] = apo_ids\n",
    "#         rec['name'] = gc_name\n",
    "#         np.savetxt('/Users/qpasa/Desktop/GC_ids/Baumgardt+Harris_selection/Remake_nopms_2sigma_final/'+i+'.txt',rec,fmt='%s')\n"
   ]
  },
  {
   "cell_type": "code",
   "execution_count": 692,
   "metadata": {
    "scrolled": true
   },
   "outputs": [
    {
     "name": "stdout",
     "output_type": "stream",
     "text": [
      "NGC2808\n",
      "0.15124919 0.055898998\n",
      "NGC7078\n",
      "0.31229672 0.07052934\n",
      "NGC6171\n",
      "0.3185428 0.07711292\n",
      "NGC6760\n",
      "0.18952344 0.04873649\n",
      "NGC6809\n",
      "0.22495605 0.050702453\n",
      "NGC4590\n",
      "0.33110046 0.04538027\n",
      "NGC3201\n",
      "0.15754892 0.04089314\n",
      "NGC6341\n",
      "0.31392902 0.067816176\n",
      "NGC362\n",
      "0.1267355 0.043072235\n",
      "NGC6397\n",
      "0.30331156 0.05639547\n",
      "NGC6752\n",
      "0.23549604 0.04928271\n",
      "NGC288\n",
      "0.2976249 0.03431226\n",
      "NGC6254\n",
      "0.26791912 0.047183733\n",
      "NGC6121\n",
      "0.33981487 0.04055069\n",
      "NGC6656\n",
      "0.2882283 0.11043721\n"
     ]
    }
   ],
   "source": [
    "# get all the GCs we clip once\n",
    "names3 = ['NGC2808','NGC7078','NGC6171','NGC6760','NGC6809','NGC4590','NGC3201','NGC6341','NGC362',\\\n",
    "          'NGC6397','NGC6752','NGC288','NGC6254','NGC6121','NGC6656']\n",
    "\n",
    "for i in names3:\n",
    "    if i in data2['gc_name']:\n",
    "        fehs = data2['FE_H']\n",
    "        sifes = data2['SI_FE']\n",
    "        gc_name = data2['gc_name']\n",
    "        vlos = data2['VHELIO_AVG']\n",
    "        apo_ids = data2['APOGEE_ID']\n",
    "        fehs = fehs[np.where(data2['gc_name']==i)]\n",
    "        vlos = vlos[np.where(data2['gc_name']==i)]\n",
    "        sifes = sifes[np.where(data2['gc_name']==i)]\n",
    "        gc_name = gc_name[np.where(data2['gc_name']==i)]\n",
    "        apo_ids = apo_ids[np.where(data2['gc_name']==i)]\n",
    "#         print(np.shape(fehs))\n",
    "        mean = np.mean(fehs)\n",
    "        sigma = np.std(fehs)\n",
    "#         print('old sigma and mean')\n",
    "#         print(mean,sigma)\n",
    "        fehs2 = fehs[np.fabs(mean-fehs)<(1.*sigma)]\n",
    "        gc_name2 = gc_name[np.fabs(mean-fehs)<(1.*sigma)]\n",
    "        apo_ids2 = apo_ids[np.fabs(mean-fehs)<(1.*sigma)]\n",
    "        vlos2 = vlos[np.fabs(mean-fehs)<(1.*sigma)]\n",
    "        sifes2 = sifes[np.fabs(mean-fehs)<(1.*sigma)]\n",
    "#         print(np.shape(fehs2))\n",
    "        mean2 = np.mean(fehs2)\n",
    "        sigma2 = np.std(fehs2)\n",
    "#         print('new sigma and mean')\n",
    "#         print(mean2,sigma2)\n",
    "        print(gc_name2[0])\n",
    "#         print(np.mean(fehs2),np.std(fehs2))\n",
    "#         print(np.mean(vlos2),np.std(vlos2))\n",
    "        print(np.mean(sifes2),np.std(sifes2))\n",
    "\n",
    "#         rec = np.recarray(len(apo_ids2), dtype=[('apogee_id',object),\n",
    "#                                             ('name', object)])\n",
    "#         rec['apogee_id'] = apo_ids2\n",
    "#         rec['name'] = gc_name2\n",
    "#         np.savetxt('/Users/qpasa/Desktop/GC_ids/Baumgardt+Harris_selection/Remake_nopms_2sigma_final/'+i+'.txt',rec,fmt='%s')\n",
    "\n"
   ]
  },
  {
   "cell_type": "code",
   "execution_count": 693,
   "metadata": {},
   "outputs": [
    {
     "name": "stdout",
     "output_type": "stream",
     "text": [
      "NGC1904\n",
      "0.14947347 0.042943053\n",
      "NGC5024\n",
      "0.24579869 0.078967236\n",
      "NGC6539\n",
      "0.20449032 0.07167215\n",
      "Liller1\n",
      "0.013930501 0.04957019\n",
      "NGC6205\n",
      "0.20605776 0.06906504\n",
      "NGC6229\n",
      "0.19291033 0.06119332\n",
      "NGC5904\n",
      "0.18383262 0.04903543\n",
      "NGC6838\n",
      "0.21550794 0.03032711\n",
      "NGC6388\n",
      "-0.034527283 0.100034505\n",
      "NGC6540\n",
      "0.21175203 0.035701722\n",
      "NGC6218\n",
      "0.25535008 0.0486344\n",
      "NGC5466\n",
      "0.18742181 0.12082274\n",
      "NGC6553\n",
      "0.09009069 0.069752045\n",
      "NGC6544\n",
      "0.21968442 0.04425401\n",
      "NGC104\n",
      "0.23388414 0.04042804\n",
      "NGC6522\n",
      "0.21539032 0.10256777\n",
      "Pal10\n",
      "-0.0037310019 0.012507817\n",
      "NGC6380\n",
      "0.20551798 0.021878285\n",
      "NGC5272\n",
      "0.16689894 0.071403004\n",
      "Pal6\n",
      "0.277548 0.07498644\n",
      "NGC6441\n",
      "0.13213976 0.13272859\n",
      "NGC1851\n",
      "0.1426886 0.05008682\n",
      "HP1\n",
      "0.21502952 0.06099403\n"
     ]
    }
   ],
   "source": [
    "# get all the GCs we clip twice\n",
    "# names4 = ['NGC104','NGC1851','NGC1904','NGC4147','NGC5024','NGC5053','NGC5272','NGC6121','NGC6205','NGC6229',\\\n",
    "#          'NGC6218','NGC6341','Terzan4','Liller1','Terzan4','Liller1','NGC6388','Pal6',\\\n",
    "#          'NGC6441','UKS1','Terzan9','NGC6522','NGC6539','NGC6540','NGC6553','NGC6656',\\\n",
    "#          'NGC6715','NGC6723','NGC6760','NGC6838','NGC7089']\n",
    "\n",
    "names4 = ['NGC1904','NGC5024','NGC6539','Liller1','NGC6205','NGC6229','NGC5904','NGC6838','NGC6388',\\\n",
    "         'NGC6540','NGC6218','NGC5466','NGC6553','NGC6544','NGC104','NGC6522','Pal10','NGC6380',\\\n",
    "        'NGC5272','Pal6','NGC6441','NGC1851','HP1']\n",
    "\n",
    "for i in names4:\n",
    "    if i in data2['gc_name']:\n",
    "        fehs = data2['FE_H']\n",
    "        sifes = data2['SI_FE']\n",
    "        gc_name = data2['gc_name']\n",
    "        vlos = data2['VHELIO_AVG']\n",
    "        apo_ids = data2['APOGEE_ID']\n",
    "        fehs = fehs[np.where(data2['gc_name']==i)]\n",
    "        vlos = vlos[np.where(data2['gc_name']==i)]\n",
    "        sifes = sifes[np.where(data2['gc_name']==i)]\n",
    "        gc_name = gc_name[np.where(data2['gc_name']==i)]\n",
    "        apo_ids = apo_ids[np.where(data2['gc_name']==i)]\n",
    "#         print(np.shape(fehs))\n",
    "        mean = np.mean(fehs)\n",
    "        sigma = np.std(fehs)\n",
    "#         print('old sigma and mean')\n",
    "#         print(mean,sigma)\n",
    "        fehs2 = fehs[np.fabs(mean-fehs)<(1.*sigma)]\n",
    "        gc_name2 = gc_name[np.fabs(mean-fehs)<(1.*sigma)]\n",
    "        apo_ids2 = apo_ids[np.fabs(mean-fehs)<(1.*sigma)]\n",
    "        vlos2 = vlos[np.fabs(mean-fehs)<(1.*sigma)]\n",
    "        sifes2 = sifes[np.fabs(mean-fehs)<(1.*sigma)]\n",
    "#         print(np.shape(fehs2))\n",
    "        mean2 = np.mean(fehs2)\n",
    "        sigma2 = np.std(fehs2)\n",
    "#         print('new sigma and mean')\n",
    "#         print(mean2,sigma2)\n",
    "        fehs3 = fehs2[np.fabs(mean2-fehs2)<=(2.*sigma2)]\n",
    "        gc_name3 = gc_name2[np.fabs(mean2-fehs2)<(2.*sigma2)]\n",
    "        apo_ids3 = apo_ids2[np.fabs(mean2-fehs2)<(2.*sigma2)]\n",
    "        vlos3 = vlos2[np.fabs(mean2-fehs2)<(2.*sigma2)]\n",
    "        sifes3 = sifes2[np.fabs(mean2-fehs2)<(2.*sigma2)]\n",
    "#         print(np.shape(fehs3))\n",
    "        mean3 = np.mean(fehs3)\n",
    "        sigma3 = np.std(fehs3)\n",
    "#         print('new sigma and mean')\n",
    "#         print(mean3,sigma3)\n",
    "        print(gc_name3[0])\n",
    "#         print(np.mean(fehs3),np.std(fehs3))\n",
    "#         print(np.mean(vlos3),np.std(vlos3))\n",
    "        print(np.mean(sifes3),np.std(sifes3))\n",
    "        \n",
    "#         rec = np.recarray(len(apo_ids3), dtype=[('apogee_id',object),\n",
    "#                                         ('name', object)])\n",
    "#         rec['apogee_id'] = apo_ids3\n",
    "#         rec['name'] = gc_name3\n",
    "#         np.savetxt('/Users/qpasa/Desktop/GC_ids/Baumgardt+Harris_selection/Remake_nopms_2sigma_final/'+i+'.txt',rec,fmt='%s')\n",
    "\n",
    "\n",
    "\n"
   ]
  },
  {
   "cell_type": "code",
   "execution_count": 649,
   "metadata": {},
   "outputs": [
    {
     "name": "stdout",
     "output_type": "stream",
     "text": [
      "(23,)\n",
      "(15,)\n",
      "(8,)\n"
     ]
    }
   ],
   "source": [
    "print(np.shape(names4))\n",
    "print(np.shape(names3))\n",
    "print(np.shape(names2))\n"
   ]
  },
  {
   "cell_type": "code",
   "execution_count": 650,
   "metadata": {},
   "outputs": [],
   "source": [
    "# saved the clipped sample\n",
    "import glob\n",
    "import sys\n",
    "files = glob.glob(\"/Users/qpasa/Desktop/GC_ids/Baumgardt+Harris_selection/Remake_nopms_2sigma_final/*.txt\")\n",
    "# print(np.shape(files))\n",
    "\n",
    "complete2=[]\n",
    "for i in files:\n",
    "    file = np.array(np.loadtxt(i,dtype='str'))\n",
    "    complete2.extend(file)\n",
    "    "
   ]
  },
  {
   "cell_type": "code",
   "execution_count": 651,
   "metadata": {},
   "outputs": [
    {
     "name": "stdout",
     "output_type": "stream",
     "text": [
      "(3090, 2)\n"
     ]
    }
   ],
   "source": [
    "# save the full clipped sample together in one file\n",
    "print(np.shape(complete2))\n",
    "np.savetxt('/Users/qpasa/Desktop/GC_ids/Baumgardt+Harris_selection/Remake_nopms_2sigma_final/complete2.txt',complete2,fmt='%s')\n",
    "\n"
   ]
  },
  {
   "cell_type": "code",
   "execution_count": null,
   "metadata": {},
   "outputs": [],
   "source": []
  }
 ],
 "metadata": {
  "kernelspec": {
   "display_name": "Python 3",
   "language": "python",
   "name": "python3"
  },
  "language_info": {
   "codemirror_mode": {
    "name": "ipython",
    "version": 3
   },
   "file_extension": ".py",
   "mimetype": "text/x-python",
   "name": "python",
   "nbconvert_exporter": "python",
   "pygments_lexer": "ipython3",
   "version": "3.7.4"
  }
 },
 "nbformat": 4,
 "nbformat_minor": 2
}
